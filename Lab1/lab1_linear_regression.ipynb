{
  "nbformat": 4,
  "nbformat_minor": 0,
  "metadata": {
    "colab": {
      "provenance": [],
      "collapsed_sections": []
    },
    "kernelspec": {
      "name": "python3",
      "display_name": "Python 3"
    },
    "language_info": {
      "name": "python"
    }
  },
  "cells": [
    {
      "cell_type": "markdown",
      "source": [
        "# Linear Methods for Regression & Classification \n",
        "\n",
        "Table of contents\n",
        "\n",
        "✔ Chapter 1.   Linear regression\n",
        "\n",
        "Chapter 2.   Logistic regression\n",
        "\n",
        "Chapter 3.   Naive bayes"
      ],
      "metadata": {
        "id": "SUJFHeVDQNbd"
      }
    },
    {
      "cell_type": "markdown",
      "source": [
        "To install further python libraries, type\n",
        "\n",
        "`!pip install --target=$my_path [LIBRARY_NAME]`"
      ],
      "metadata": {
        "id": "BE0x43_mQZQZ"
      }
    },
    {
      "cell_type": "markdown",
      "source": [
        "# Chapter 1-1. **[Linear Regression]** Implement from scratch"
      ],
      "metadata": {
        "id": "hvv98V4NcP9O"
      }
    },
    {
      "cell_type": "code",
      "execution_count": 1,
      "metadata": {
        "id": "e_ujMIbXQKVI"
      },
      "outputs": [],
      "source": [
        "import numpy as np\n",
        "import pandas as pd\n",
        "from matplotlib import pyplot as plt"
      ]
    },
    {
      "cell_type": "code",
      "source": [
        "def error_function(self, X, y):\n",
        "  # define hypothesis f(x)\n",
        "  h = np.dot(X, self.weights) + self.bias\n",
        "            \n",
        "  # compute error\n",
        "  error = y - h\n",
        "  \n",
        "  # compute squared error\n",
        "  mse = np.square(error).mean()\n",
        "\n",
        "  \n",
        "\n",
        "  return error, mse"
      ],
      "metadata": {
        "id": "bxKGGDE4QeYQ"
      },
      "execution_count": 2,
      "outputs": []
    },
    {
      "cell_type": "code",
      "source": [
        "def gradient_descent(self, error):\n",
        "  # take derivatives with respect to weights (beta) and intercept (beta_0)\n",
        "  gradient_wrt_weights = - (1 / self.n) * np.dot(X.T, error)\n",
        "  gradient_wrt_bias = - (1 / self.n) * np.sum(error)            \n",
        "      \n",
        "  # for each iteration, update beta and beta_0 as follows\n",
        "  self.weights = self.weights - self.learning_rate * gradient_wrt_weights\n",
        "  self.bias = self.bias - self.learning_rate * gradient_wrt_bias \n",
        "\n"
      ],
      "metadata": {
        "id": "Taz7WmLARffQ"
      },
      "execution_count": 3,
      "outputs": []
    },
    {
      "cell_type": "code",
      "source": [
        "def predict(self, Z):\n",
        "  # compute predictions using current beta and beta_0 which we got after fitting the function \n",
        "  return np.dot(Z, self.weights) + self.bias"
      ],
      "metadata": {
        "id": "rX4dndVRSCHh"
      },
      "execution_count": 4,
      "outputs": []
    },
    {
      "cell_type": "markdown",
      "source": [
        "generate fake data"
      ],
      "metadata": {
        "id": "C_-mGvZqSTeI"
      }
    },
    {
      "cell_type": "code",
      "source": [
        "# create random data to use\n",
        "n = 10000\n",
        "\n",
        "# get n samples from the normal distribution\n",
        "x1 = np.random.randn(n)\n",
        "x2 = np.random.randn(n)\n",
        "x3 = np.random.randn(n)\n",
        "\n",
        "# get noise distribution to add to the data\n",
        "noise = np.random.normal(0,5,n)\n",
        "\n",
        "# define the target (i.e., y) using x1, x2, x3 and noise\n",
        "y = 100*x1 - 50*x2 + 25*x3 + 10 + noise\n",
        "\n",
        "# define input variable X\n",
        "X = np.array([x1,x2,x3]).T"
      ],
      "metadata": {
        "id": "V1ElkOeZSWGk"
      },
      "execution_count": 5,
      "outputs": []
    },
    {
      "cell_type": "markdown",
      "source": [
        "Define our own linear regression class"
      ],
      "metadata": {
        "id": "B_etQ6cwSl3a"
      }
    },
    {
      "cell_type": "code",
      "source": [
        "class LinearRegression:\n",
        "    \n",
        "    def __init__(self):\n",
        "        # n samples and m features so shape of X is (n,m)\n",
        "        self.n, self.m = X.shape   \n",
        "        # initialize parameters\n",
        "        self.bias = 0\n",
        "        self.weights = np.ones(self.m)\n",
        "        \n",
        "        self.loss = []\n",
        "        # learning rate\n",
        "        self.learning_rate=0.05\n",
        "        \n",
        "    def fit(self, X, y, alpha = 0.05, n_iterations = 100):\n",
        "             \n",
        "        \n",
        "        # iteration for gradient descent algorithm\n",
        "        for _ in range(n_iterations):\n",
        "            \n",
        "            error, mse = error_function(self, X, y)\n",
        "            \n",
        "            # record errors for visualization\n",
        "            self.loss.append(mse)\n",
        "\n",
        "            gradient_descent(self, error)\n",
        "    \n",
        "    def predict(self, Z):\n",
        "        # compute predictions using good parameters learned thru gradient descent algorithm\n",
        "        return np.dot(Z, self.weights) + self.bias  "
      ],
      "metadata": {
        "id": "7VZUP1FDSc5k"
      },
      "execution_count": 6,
      "outputs": []
    },
    {
      "cell_type": "code",
      "source": [
        "model = LinearRegression()\n",
        "\n",
        "# fit the function based on the data\n",
        "model.fit(X, y, n_iterations = 100)\n",
        "\n",
        "# make predictions\n",
        "predictions = model.predict(X)\n",
        "\n",
        "# learned parameters\n",
        "model.weights, model.bias"
      ],
      "metadata": {
        "colab": {
          "base_uri": "https://localhost:8080/"
        },
        "id": "1NzkVgxFS887",
        "outputId": "e342d486-818b-487e-ee9d-492916746f2a"
      },
      "execution_count": 7,
      "outputs": [
        {
          "output_type": "execute_result",
          "data": {
            "text/plain": [
              "(array([ 99.45120966, -49.68364343,  24.93541159]), 9.985285745675645)"
            ]
          },
          "metadata": {},
          "execution_count": 7
        }
      ]
    },
    {
      "cell_type": "markdown",
      "source": [
        "# Chapter 1-2. **[Linear Regression]** Use scikit-learn library"
      ],
      "metadata": {
        "id": "7YJ3M_kdV8fW"
      }
    },
    {
      "cell_type": "code",
      "source": [
        "from sklearn.linear_model import LinearRegression"
      ],
      "metadata": {
        "id": "kaqBbSOdWATh"
      },
      "execution_count": 8,
      "outputs": []
    },
    {
      "cell_type": "code",
      "source": [
        "line_fitter = LinearRegression()\n",
        "line_fitter.fit(X.reshape(-1,3), y)"
      ],
      "metadata": {
        "colab": {
          "base_uri": "https://localhost:8080/"
        },
        "id": "gyb5Zvp3Wj-N",
        "outputId": "72addfdc-35ba-4abd-f30d-cb4cd5d8ce50"
      },
      "execution_count": 9,
      "outputs": [
        {
          "output_type": "execute_result",
          "data": {
            "text/plain": [
              "LinearRegression()"
            ]
          },
          "metadata": {},
          "execution_count": 9
        }
      ]
    },
    {
      "cell_type": "code",
      "source": [
        "line_fitter.coef_\n"
      ],
      "metadata": {
        "colab": {
          "base_uri": "https://localhost:8080/"
        },
        "id": "Ozr7iox7Wtwf",
        "outputId": "afb3f183-0b94-48e7-94b2-a906b0ca643c"
      },
      "execution_count": 10,
      "outputs": [
        {
          "output_type": "execute_result",
          "data": {
            "text/plain": [
              "array([100.03638158, -50.02049186,  25.00483718])"
            ]
          },
          "metadata": {},
          "execution_count": 10
        }
      ]
    },
    {
      "cell_type": "code",
      "source": [
        "line_fitter.intercept_\n"
      ],
      "metadata": {
        "colab": {
          "base_uri": "https://localhost:8080/"
        },
        "id": "VqjcZOyrWvgq",
        "outputId": "b9f1f9c5-10a9-4ba3-92ef-07673fce9ea9"
      },
      "execution_count": 11,
      "outputs": [
        {
          "output_type": "execute_result",
          "data": {
            "text/plain": [
              "10.044449246486343"
            ]
          },
          "metadata": {},
          "execution_count": 11
        }
      ]
    }
  ]
}