{
  "nbformat": 4,
  "nbformat_minor": 0,
  "metadata": {
    "colab": {
      "provenance": [],
      "collapsed_sections": []
    },
    "kernelspec": {
      "name": "python3",
      "display_name": "Python 3"
    },
    "language_info": {
      "name": "python"
    }
  },
  "cells": [
    {
      "cell_type": "markdown",
      "source": [
        "# Linear Methods for Regression & Classification \n",
        "\n",
        "Table of contents\n",
        "\n",
        "Chapter 1.   Linear regression\n",
        "\n",
        "✔ Chapter 2.   Logistic regression\n",
        "\n",
        "Chapter 3.   Naive bayes"
      ],
      "metadata": {
        "id": "-qR-uRfDGGs6"
      }
    },
    {
      "cell_type": "markdown",
      "source": [
        "To install further python libraries, type\n",
        "\n",
        "`!pip install --target=$my_path [LIBRARY_NAME]`"
      ],
      "metadata": {
        "id": "lnJU-8vMGAnl"
      }
    },
    {
      "cell_type": "markdown",
      "source": [
        "# Chapter 2-1. **[Logistic Regression]** Implement from scratch\n"
      ],
      "metadata": {
        "id": "BQ-INpTZGWnb"
      }
    },
    {
      "cell_type": "code",
      "source": [
        "import numpy as np\n",
        "import pandas as pd\n",
        "from matplotlib import pyplot as plt"
      ],
      "metadata": {
        "id": "h5LdGkGFHsaD"
      },
      "execution_count": 1,
      "outputs": []
    },
    {
      "cell_type": "markdown",
      "source": [
        "## Step1: Define sigmoid function"
      ],
      "metadata": {
        "id": "JVNDcn_lH_Pq"
      }
    },
    {
      "cell_type": "code",
      "source": [
        "def sigmoid(self, x):\n",
        "  sig_x = (1/(1+np.exp(-x)))\n",
        "\n",
        "  return sig_x"
      ],
      "metadata": {
        "id": "kn5SpN6eHepz"
      },
      "execution_count": 2,
      "outputs": []
    },
    {
      "cell_type": "markdown",
      "source": [
        "## Step2: Define log likelihood function"
      ],
      "metadata": {
        "id": "Xa2ItyLuIGKQ"
      }
    },
    {
      "cell_type": "code",
      "source": [
        "def log_likelihood(self, y_true, y_pred):\n",
        "  \n",
        "  # To avoid log 0 case, use some small value (e.g., 1e-7)\n",
        "  y_pred = np.maximum(np.full(y_pred.shape, self.eps), np.minimum(np.full(y_pred.shape, 1-self.eps), y_pred))\n",
        "\n",
        "  likelihood = sum(y_true*np.log(y_pred)+(1-y_true)*np.log(1-y_pred))\n",
        "\n",
        "\n",
        "  return likelihood"
      ],
      "metadata": {
        "id": "iejXui6DHeYu"
      },
      "execution_count": 3,
      "outputs": []
    },
    {
      "cell_type": "markdown",
      "source": [
        "## Step3: Gradient ascent"
      ],
      "metadata": {
        "id": "3syodb2QILRl"
      }
    },
    {
      "cell_type": "code",
      "source": [
        "def gradient_ascent(self, X, y, y_pred):\n",
        "  gradient = np.mean((y-y_pred)*X.T, axis=1)\n",
        "            \n",
        "  # update beta and beta_0\n",
        "  # gradient ASCENT not descent (+ instead of -)\n",
        "  self.weights = self.weights + self.learning_rate*gradient"
      ],
      "metadata": {
        "id": "TIat1TiFIgDS"
      },
      "execution_count": 4,
      "outputs": []
    },
    {
      "cell_type": "code",
      "source": [
        "class MyLogisticRegression:\n",
        "    def __init__(self, learning_rate=0.01, max_iterations=1000):\n",
        "        # Initialising parameters\n",
        "        self.learning_rate  = learning_rate\n",
        "        self.max_iterations = max_iterations\n",
        "        self.likelihoods    = []\n",
        "        \n",
        "        #  epsilon so log(0) is not defined\n",
        "        self.eps = 1e-7\n",
        "\n",
        "        \n",
        "\n",
        "    def fit(self, X, y):\n",
        "        \n",
        "        num_examples = X.shape[0]\n",
        "        num_features = X.shape[1]\n",
        "        \n",
        "        # initialize weights \n",
        "        self.weights = np.zeros(num_features)\n",
        "        \n",
        "        \n",
        "        \n",
        "        # gradient ascent\n",
        "        for i in range(self.max_iterations):\n",
        "            # hypothesis\n",
        "            z = np.dot(X,self.weights)\n",
        "            # appplying sigmoid on z\n",
        "            h = sigmoid(self, z)\n",
        "            \n",
        "            gradient_ascent(self, X, y, h)\n",
        "            \n",
        "            # log likelihood\n",
        "            likelihood = log_likelihood(self, y, h)\n",
        "\n",
        "            self.likelihoods.append(likelihood)\n",
        "\n",
        "    def predict(self, X, threshold=0.5):\n",
        "        # apply threshold to determine the predication class\n",
        "        predictions = np.array(list(map(lambda x: 1 if x>threshold else 0, self.predict_proba(X))))\n",
        "        \n",
        "        return predictions\n",
        "\n",
        "    def predict_proba(self,X):\n",
        "        '''Predict probabilities for given X.\n",
        "        Remember sigmoid returns value between 0 and 1.\n",
        "        Args:\n",
        "            X : Numpy array (num_samples, num_features)\n",
        "        Returns:\n",
        "            probabilities: Numpy array (num_samples,)\n",
        "        '''\n",
        "        if self.weights is None:\n",
        "            raise Exception(\"Fit the model before prediction\")\n",
        "        \n",
        "        # get prediction using weights learned thru gradient ascent\n",
        "        z = np.dot(X,self.weights)\n",
        "        # apply sigmoid so probabilities are between 0 and 1\n",
        "        probabilities = sigmoid(self, z)\n",
        "        \n",
        "        \n",
        "        return probabilities\n",
        "       "
      ],
      "metadata": {
        "id": "1UAN5UgVi0hU"
      },
      "execution_count": 5,
      "outputs": []
    },
    {
      "cell_type": "code",
      "source": [
        "!wget https://github.com/DeepConnectAI/challenge-week-3/raw/master/data/divorce.csv\n"
      ],
      "metadata": {
        "colab": {
          "base_uri": "https://localhost:8080/"
        },
        "id": "B1MwdV_PlZjz",
        "outputId": "58efe9dd-a818-48f2-ed83-865ca5cf6de6"
      },
      "execution_count": 6,
      "outputs": [
        {
          "output_type": "stream",
          "name": "stdout",
          "text": [
            "--2022-10-05 15:43:58--  https://github.com/DeepConnectAI/challenge-week-3/raw/master/data/divorce.csv\n",
            "Resolving github.com (github.com)... 140.82.121.3\n",
            "Connecting to github.com (github.com)|140.82.121.3|:443... connected.\n",
            "HTTP request sent, awaiting response... 302 Found\n",
            "Location: https://raw.githubusercontent.com/DeepConnectAI/challenge-week-3/master/data/divorce.csv [following]\n",
            "--2022-10-05 15:43:58--  https://raw.githubusercontent.com/DeepConnectAI/challenge-week-3/master/data/divorce.csv\n",
            "Resolving raw.githubusercontent.com (raw.githubusercontent.com)... 185.199.111.133, 185.199.109.133, 185.199.110.133, ...\n",
            "Connecting to raw.githubusercontent.com (raw.githubusercontent.com)|185.199.111.133|:443... connected.\n",
            "HTTP request sent, awaiting response... 200 OK\n",
            "Length: 19021 (19K) [text/plain]\n",
            "Saving to: ‘divorce.csv’\n",
            "\n",
            "divorce.csv         100%[===================>]  18.58K  --.-KB/s    in 0s      \n",
            "\n",
            "2022-10-05 15:43:58 (78.2 MB/s) - ‘divorce.csv’ saved [19021/19021]\n",
            "\n"
          ]
        }
      ]
    },
    {
      "cell_type": "markdown",
      "source": [
        "Load data\n",
        "\n",
        "\n",
        "*   data source: https://www.kaggle.com/datasets/adisak/divorce-predictors-data-set-csv\n",
        "*   54 attributes about divorce-related questions and 0-4 scale\n",
        "*   Label: Potential divorce, health marriage\n",
        "\n"
      ],
      "metadata": {
        "id": "i2K2SFiPsjhp"
      }
    },
    {
      "cell_type": "code",
      "source": [
        "data = pd.read_csv(\"divorce.csv\", delimiter = ';')\n",
        "\n",
        "df = pd.DataFrame(data)\n",
        "df.head()\n",
        "\n"
      ],
      "metadata": {
        "colab": {
          "base_uri": "https://localhost:8080/",
          "height": 300
        },
        "id": "WzdKCcGZaL6X",
        "outputId": "62b94735-8baa-4b63-c61e-6a64d40ad22a"
      },
      "execution_count": 14,
      "outputs": [
        {
          "output_type": "execute_result",
          "data": {
            "text/plain": [
              "   Atr1  Atr2  Atr3  Atr4  Atr5  Atr6  Atr7  Atr8  Atr9  Atr10  ...  Atr46  \\\n",
              "0     2     2     4     1     0     0     0     0     0      0  ...      2   \n",
              "1     4     4     4     4     4     0     0     4     4      4  ...      2   \n",
              "2     2     2     2     2     1     3     2     1     1      2  ...      3   \n",
              "3     3     2     3     2     3     3     3     3     3      3  ...      2   \n",
              "4     2     2     1     1     1     1     0     0     0      0  ...      2   \n",
              "\n",
              "   Atr47  Atr48  Atr49  Atr50  Atr51  Atr52  Atr53  Atr54  Class  \n",
              "0      1      3      3      3      2      3      2      1      1  \n",
              "1      2      3      4      4      4      4      2      2      1  \n",
              "2      2      3      1      1      1      2      2      2      1  \n",
              "3      2      3      3      3      3      2      2      2      1  \n",
              "4      1      2      3      2      2      2      1      0      1  \n",
              "\n",
              "[5 rows x 55 columns]"
            ],
            "text/html": [
              "\n",
              "  <div id=\"df-4131c6d5-cd14-4c6b-b554-e750fc5b75cc\">\n",
              "    <div class=\"colab-df-container\">\n",
              "      <div>\n",
              "<style scoped>\n",
              "    .dataframe tbody tr th:only-of-type {\n",
              "        vertical-align: middle;\n",
              "    }\n",
              "\n",
              "    .dataframe tbody tr th {\n",
              "        vertical-align: top;\n",
              "    }\n",
              "\n",
              "    .dataframe thead th {\n",
              "        text-align: right;\n",
              "    }\n",
              "</style>\n",
              "<table border=\"1\" class=\"dataframe\">\n",
              "  <thead>\n",
              "    <tr style=\"text-align: right;\">\n",
              "      <th></th>\n",
              "      <th>Atr1</th>\n",
              "      <th>Atr2</th>\n",
              "      <th>Atr3</th>\n",
              "      <th>Atr4</th>\n",
              "      <th>Atr5</th>\n",
              "      <th>Atr6</th>\n",
              "      <th>Atr7</th>\n",
              "      <th>Atr8</th>\n",
              "      <th>Atr9</th>\n",
              "      <th>Atr10</th>\n",
              "      <th>...</th>\n",
              "      <th>Atr46</th>\n",
              "      <th>Atr47</th>\n",
              "      <th>Atr48</th>\n",
              "      <th>Atr49</th>\n",
              "      <th>Atr50</th>\n",
              "      <th>Atr51</th>\n",
              "      <th>Atr52</th>\n",
              "      <th>Atr53</th>\n",
              "      <th>Atr54</th>\n",
              "      <th>Class</th>\n",
              "    </tr>\n",
              "  </thead>\n",
              "  <tbody>\n",
              "    <tr>\n",
              "      <th>0</th>\n",
              "      <td>2</td>\n",
              "      <td>2</td>\n",
              "      <td>4</td>\n",
              "      <td>1</td>\n",
              "      <td>0</td>\n",
              "      <td>0</td>\n",
              "      <td>0</td>\n",
              "      <td>0</td>\n",
              "      <td>0</td>\n",
              "      <td>0</td>\n",
              "      <td>...</td>\n",
              "      <td>2</td>\n",
              "      <td>1</td>\n",
              "      <td>3</td>\n",
              "      <td>3</td>\n",
              "      <td>3</td>\n",
              "      <td>2</td>\n",
              "      <td>3</td>\n",
              "      <td>2</td>\n",
              "      <td>1</td>\n",
              "      <td>1</td>\n",
              "    </tr>\n",
              "    <tr>\n",
              "      <th>1</th>\n",
              "      <td>4</td>\n",
              "      <td>4</td>\n",
              "      <td>4</td>\n",
              "      <td>4</td>\n",
              "      <td>4</td>\n",
              "      <td>0</td>\n",
              "      <td>0</td>\n",
              "      <td>4</td>\n",
              "      <td>4</td>\n",
              "      <td>4</td>\n",
              "      <td>...</td>\n",
              "      <td>2</td>\n",
              "      <td>2</td>\n",
              "      <td>3</td>\n",
              "      <td>4</td>\n",
              "      <td>4</td>\n",
              "      <td>4</td>\n",
              "      <td>4</td>\n",
              "      <td>2</td>\n",
              "      <td>2</td>\n",
              "      <td>1</td>\n",
              "    </tr>\n",
              "    <tr>\n",
              "      <th>2</th>\n",
              "      <td>2</td>\n",
              "      <td>2</td>\n",
              "      <td>2</td>\n",
              "      <td>2</td>\n",
              "      <td>1</td>\n",
              "      <td>3</td>\n",
              "      <td>2</td>\n",
              "      <td>1</td>\n",
              "      <td>1</td>\n",
              "      <td>2</td>\n",
              "      <td>...</td>\n",
              "      <td>3</td>\n",
              "      <td>2</td>\n",
              "      <td>3</td>\n",
              "      <td>1</td>\n",
              "      <td>1</td>\n",
              "      <td>1</td>\n",
              "      <td>2</td>\n",
              "      <td>2</td>\n",
              "      <td>2</td>\n",
              "      <td>1</td>\n",
              "    </tr>\n",
              "    <tr>\n",
              "      <th>3</th>\n",
              "      <td>3</td>\n",
              "      <td>2</td>\n",
              "      <td>3</td>\n",
              "      <td>2</td>\n",
              "      <td>3</td>\n",
              "      <td>3</td>\n",
              "      <td>3</td>\n",
              "      <td>3</td>\n",
              "      <td>3</td>\n",
              "      <td>3</td>\n",
              "      <td>...</td>\n",
              "      <td>2</td>\n",
              "      <td>2</td>\n",
              "      <td>3</td>\n",
              "      <td>3</td>\n",
              "      <td>3</td>\n",
              "      <td>3</td>\n",
              "      <td>2</td>\n",
              "      <td>2</td>\n",
              "      <td>2</td>\n",
              "      <td>1</td>\n",
              "    </tr>\n",
              "    <tr>\n",
              "      <th>4</th>\n",
              "      <td>2</td>\n",
              "      <td>2</td>\n",
              "      <td>1</td>\n",
              "      <td>1</td>\n",
              "      <td>1</td>\n",
              "      <td>1</td>\n",
              "      <td>0</td>\n",
              "      <td>0</td>\n",
              "      <td>0</td>\n",
              "      <td>0</td>\n",
              "      <td>...</td>\n",
              "      <td>2</td>\n",
              "      <td>1</td>\n",
              "      <td>2</td>\n",
              "      <td>3</td>\n",
              "      <td>2</td>\n",
              "      <td>2</td>\n",
              "      <td>2</td>\n",
              "      <td>1</td>\n",
              "      <td>0</td>\n",
              "      <td>1</td>\n",
              "    </tr>\n",
              "  </tbody>\n",
              "</table>\n",
              "<p>5 rows × 55 columns</p>\n",
              "</div>\n",
              "      <button class=\"colab-df-convert\" onclick=\"convertToInteractive('df-4131c6d5-cd14-4c6b-b554-e750fc5b75cc')\"\n",
              "              title=\"Convert this dataframe to an interactive table.\"\n",
              "              style=\"display:none;\">\n",
              "        \n",
              "  <svg xmlns=\"http://www.w3.org/2000/svg\" height=\"24px\"viewBox=\"0 0 24 24\"\n",
              "       width=\"24px\">\n",
              "    <path d=\"M0 0h24v24H0V0z\" fill=\"none\"/>\n",
              "    <path d=\"M18.56 5.44l.94 2.06.94-2.06 2.06-.94-2.06-.94-.94-2.06-.94 2.06-2.06.94zm-11 1L8.5 8.5l.94-2.06 2.06-.94-2.06-.94L8.5 2.5l-.94 2.06-2.06.94zm10 10l.94 2.06.94-2.06 2.06-.94-2.06-.94-.94-2.06-.94 2.06-2.06.94z\"/><path d=\"M17.41 7.96l-1.37-1.37c-.4-.4-.92-.59-1.43-.59-.52 0-1.04.2-1.43.59L10.3 9.45l-7.72 7.72c-.78.78-.78 2.05 0 2.83L4 21.41c.39.39.9.59 1.41.59.51 0 1.02-.2 1.41-.59l7.78-7.78 2.81-2.81c.8-.78.8-2.07 0-2.86zM5.41 20L4 18.59l7.72-7.72 1.47 1.35L5.41 20z\"/>\n",
              "  </svg>\n",
              "      </button>\n",
              "      \n",
              "  <style>\n",
              "    .colab-df-container {\n",
              "      display:flex;\n",
              "      flex-wrap:wrap;\n",
              "      gap: 12px;\n",
              "    }\n",
              "\n",
              "    .colab-df-convert {\n",
              "      background-color: #E8F0FE;\n",
              "      border: none;\n",
              "      border-radius: 50%;\n",
              "      cursor: pointer;\n",
              "      display: none;\n",
              "      fill: #1967D2;\n",
              "      height: 32px;\n",
              "      padding: 0 0 0 0;\n",
              "      width: 32px;\n",
              "    }\n",
              "\n",
              "    .colab-df-convert:hover {\n",
              "      background-color: #E2EBFA;\n",
              "      box-shadow: 0px 1px 2px rgba(60, 64, 67, 0.3), 0px 1px 3px 1px rgba(60, 64, 67, 0.15);\n",
              "      fill: #174EA6;\n",
              "    }\n",
              "\n",
              "    [theme=dark] .colab-df-convert {\n",
              "      background-color: #3B4455;\n",
              "      fill: #D2E3FC;\n",
              "    }\n",
              "\n",
              "    [theme=dark] .colab-df-convert:hover {\n",
              "      background-color: #434B5C;\n",
              "      box-shadow: 0px 1px 3px 1px rgba(0, 0, 0, 0.15);\n",
              "      filter: drop-shadow(0px 1px 2px rgba(0, 0, 0, 0.3));\n",
              "      fill: #FFFFFF;\n",
              "    }\n",
              "  </style>\n",
              "\n",
              "      <script>\n",
              "        const buttonEl =\n",
              "          document.querySelector('#df-4131c6d5-cd14-4c6b-b554-e750fc5b75cc button.colab-df-convert');\n",
              "        buttonEl.style.display =\n",
              "          google.colab.kernel.accessAllowed ? 'block' : 'none';\n",
              "\n",
              "        async function convertToInteractive(key) {\n",
              "          const element = document.querySelector('#df-4131c6d5-cd14-4c6b-b554-e750fc5b75cc');\n",
              "          const dataTable =\n",
              "            await google.colab.kernel.invokeFunction('convertToInteractive',\n",
              "                                                     [key], {});\n",
              "          if (!dataTable) return;\n",
              "\n",
              "          const docLinkHtml = 'Like what you see? Visit the ' +\n",
              "            '<a target=\"_blank\" href=https://colab.research.google.com/notebooks/data_table.ipynb>data table notebook</a>'\n",
              "            + ' to learn more about interactive tables.';\n",
              "          element.innerHTML = '';\n",
              "          dataTable['output_type'] = 'display_data';\n",
              "          await google.colab.output.renderOutput(dataTable, element);\n",
              "          const docLink = document.createElement('div');\n",
              "          docLink.innerHTML = docLinkHtml;\n",
              "          element.appendChild(docLink);\n",
              "        }\n",
              "      </script>\n",
              "    </div>\n",
              "  </div>\n",
              "  "
            ]
          },
          "metadata": {},
          "execution_count": 14
        }
      ]
    },
    {
      "cell_type": "code",
      "source": [
        "print(data.shape)"
      ],
      "metadata": {
        "colab": {
          "base_uri": "https://localhost:8080/"
        },
        "id": "VUwhbLaO0cLu",
        "outputId": "77b37043-d167-4b00-aa5c-12c439819fab"
      },
      "execution_count": 15,
      "outputs": [
        {
          "output_type": "stream",
          "name": "stdout",
          "text": [
            "(170, 55)\n"
          ]
        }
      ]
    },
    {
      "cell_type": "code",
      "source": [
        "value = [1]*170\n",
        "#inserting a intecept so x for beta_0\n",
        "df = df.insert(0,\"Atr0\",value, False)"
      ],
      "metadata": {
        "id": "HVJlZGjoidvk"
      },
      "execution_count": 8,
      "outputs": []
    },
    {
      "cell_type": "code",
      "source": [
        "from sklearn.model_selection import train_test_split\n",
        "\n",
        "\n",
        "x = data.iloc[: , :-1]\n",
        "y = data.iloc[: , -1]\n",
        "x = np.array(x)\n",
        "y = np.array(y)\n",
        "\n",
        "#Split the dataset (15% portion goes to testing set and use random seed=0)\n",
        "x_train, x_test, y_train, y_test = train_test_split(x, y, test_size= 0.15, random_state=0) \n"
      ],
      "metadata": {
        "id": "A_fCQ-AShe9b"
      },
      "execution_count": 9,
      "outputs": []
    },
    {
      "cell_type": "code",
      "source": [
        "model = MyLogisticRegression()\n",
        "model.fit(x_train,y_train)\n",
        "\n",
        "y_pred = model.predict(x_test)\n",
        "\n",
        "def accuracy(y_true,y_pred):\n",
        "    \n",
        "    count=0\n",
        "    y_cap = y_pred - y_true\n",
        "    count = np.count_nonzero(y_cap==0)   \n",
        "    accuracy = (count/len(y_pred))*100\n",
        "    print(accuracy)\n",
        "  \n",
        "accuracy(y_test,y_pred)"
      ],
      "metadata": {
        "colab": {
          "base_uri": "https://localhost:8080/"
        },
        "id": "Jim9_YWQklSx",
        "outputId": "151b9391-5efb-4d98-e3b6-d93277827ae7"
      },
      "execution_count": 10,
      "outputs": [
        {
          "output_type": "stream",
          "name": "stdout",
          "text": [
            "88.46153846153845\n"
          ]
        }
      ]
    },
    {
      "cell_type": "code",
      "source": [
        "plt.plot([i+1 for i in range(len(model.likelihoods))], model.likelihoods)\n",
        "plt.title(\"Log-Likelihood curve\")\n",
        "plt.xlabel(\"Iteration num\")\n",
        "plt.ylabel(\"Log-likelihood\")\n",
        "plt.show()"
      ],
      "metadata": {
        "colab": {
          "base_uri": "https://localhost:8080/",
          "height": 295
        },
        "id": "zmc7jUhrmUYq",
        "outputId": "bd434df6-89e2-4a01-fdaa-9937e7d1212a"
      },
      "execution_count": 11,
      "outputs": [
        {
          "output_type": "display_data",
          "data": {
            "text/plain": [
              "<Figure size 432x288 with 1 Axes>"
            ],
            "image/png": "[encoded data removed]"
          },
          "metadata": {
            "needs_background": "light"
          }
        }
      ]
    },
    {
      "cell_type": "markdown",
      "source": [
        "# Chapter 2-2. **[Logistic Regression]** Use scikit-learn library\n"
      ],
      "metadata": {
        "id": "KPJOJFY7muL5"
      }
    },
    {
      "cell_type": "code",
      "source": [
        "from sklearn.linear_model import LogisticRegression"
      ],
      "metadata": {
        "id": "oH2Hfhwhmv8z"
      },
      "execution_count": 16,
      "outputs": []
    },
    {
      "cell_type": "code",
      "source": [
        "clf = LogisticRegression(random_state=0).fit(x, y) # By default, it uses L2 regularization"
      ],
      "metadata": {
        "id": "D_abRKG2m7_L"
      },
      "execution_count": 17,
      "outputs": []
    },
    {
      "cell_type": "code",
      "source": [
        "clf.predict(x_test)"
      ],
      "metadata": {
        "colab": {
          "base_uri": "https://localhost:8080/"
        },
        "id": "L8Bk6e6BnH-C",
        "outputId": "5c14f1ee-ea2e-4b7c-e0be-b58677e88286"
      },
      "execution_count": 18,
      "outputs": [
        {
          "output_type": "execute_result",
          "data": {
            "text/plain": [
              "array([0, 0, 0, 1, 1, 0, 1, 0, 0, 0, 0, 1, 1, 0, 1, 1, 1, 0, 1, 1, 0, 1,\n",
              "       0, 0, 0, 1])"
            ]
          },
          "metadata": {},
          "execution_count": 18
        }
      ]
    },
    {
      "cell_type": "code",
      "source": [
        "clf.predict_proba(x_test)"
      ],
      "metadata": {
        "colab": {
          "base_uri": "https://localhost:8080/"
        },
        "id": "0svJB0danQqz",
        "outputId": "650a5a11-bf1a-493a-f8c0-560fd426c602"
      },
      "execution_count": 19,
      "outputs": [
        {
          "output_type": "execute_result",
          "data": {
            "text/plain": [
              "array([[9.92909916e-01, 7.09008403e-03],\n",
              "       [9.93793392e-01, 6.20660759e-03],\n",
              "       [9.82234976e-01, 1.77650239e-02],\n",
              "       [8.16020584e-10, 9.99999999e-01],\n",
              "       [2.03972106e-09, 9.99999998e-01],\n",
              "       [9.89224873e-01, 1.07751272e-02],\n",
              "       [5.61493589e-06, 9.99994385e-01],\n",
              "       [9.99541078e-01, 4.58921756e-04],\n",
              "       [9.96305895e-01, 3.69410459e-03],\n",
              "       [9.99222079e-01, 7.77921121e-04],\n",
              "       [9.93074632e-01, 6.92536778e-03],\n",
              "       [1.25028874e-01, 8.74971126e-01],\n",
              "       [1.28656057e-05, 9.99987134e-01],\n",
              "       [9.98127810e-01, 1.87218975e-03],\n",
              "       [1.27564181e-09, 9.99999999e-01],\n",
              "       [4.62072602e-11, 1.00000000e+00],\n",
              "       [2.79639711e-09, 9.99999997e-01],\n",
              "       [9.98354828e-01, 1.64517168e-03],\n",
              "       [1.87215621e-09, 9.99999998e-01],\n",
              "       [1.87215621e-09, 9.99999998e-01],\n",
              "       [9.73714712e-01, 2.62852878e-02],\n",
              "       [1.60487034e-01, 8.39512966e-01],\n",
              "       [9.99533109e-01, 4.66890939e-04],\n",
              "       [9.93453704e-01, 6.54629594e-03],\n",
              "       [9.93655120e-01, 6.34487982e-03],\n",
              "       [3.18553184e-10, 1.00000000e+00]])"
            ]
          },
          "metadata": {},
          "execution_count": 19
        }
      ]
    },
    {
      "cell_type": "code",
      "source": [
        "clf.score(x_test,y_test) #accuracy"
      ],
      "metadata": {
        "colab": {
          "base_uri": "https://localhost:8080/"
        },
        "id": "iae7t9KcnS9K",
        "outputId": "e62e1def-e1a6-4cf1-c3bc-6b6aabcd7bd4"
      },
      "execution_count": 20,
      "outputs": [
        {
          "output_type": "execute_result",
          "data": {
            "text/plain": [
              "1.0"
            ]
          },
          "metadata": {},
          "execution_count": 20
        }
      ]
    },
    {
      "cell_type": "code",
      "source": [
        "print(clf.coef_)"
      ],
      "metadata": {
        "colab": {
          "base_uri": "https://localhost:8080/"
        },
        "id": "Sq59V4G4Su3B",
        "outputId": "d1d6f24c-8f2c-430b-88f7-9e9cee63369e"
      },
      "execution_count": 21,
      "outputs": [
        {
          "output_type": "stream",
          "name": "stdout",
          "text": [
            "[[ 1.93496181e-05  2.67985565e-01  2.82670780e-01  3.51251701e-01\n",
            "   1.40311656e-01  1.60821772e-01  3.28223721e-01 -7.70116016e-04\n",
            "   7.73421958e-02  9.34445840e-02 -4.39149750e-02  1.35216625e-01\n",
            "   1.52007646e-01 -8.87513891e-02  2.06023885e-01  3.02886317e-01\n",
            "   1.49462450e-01  3.57800694e-01  2.98800359e-01  2.77647234e-01\n",
            "   3.05884674e-01  9.59785055e-02 -2.47195021e-02 -3.40149783e-02\n",
            "  -6.90561691e-02  1.48278641e-01  4.92940337e-01  1.15749097e-01\n",
            "   3.36929534e-01  1.89327204e-01  2.07870414e-01  3.67207411e-01\n",
            "   1.82470382e-01  1.96401791e-01  2.02473626e-01  6.88879415e-02\n",
            "   2.04710881e-01  2.74333013e-02  2.07476513e-01  3.09426907e-01\n",
            "   5.95899712e-01  2.24699201e-01  1.61095488e-01  1.50263254e-01\n",
            "   3.72372650e-01  1.30133145e-02  4.70398006e-02  6.55913015e-02\n",
            "  -7.20112889e-02  4.57934833e-01  1.81410282e-01 -5.16203209e-03\n",
            "   2.46520713e-01  3.01556275e-01 -5.23308037e-02]]\n"
          ]
        }
      ]
    }
  ]
}