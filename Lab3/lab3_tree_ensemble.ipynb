{
  "nbformat": 4,
  "nbformat_minor": 0,
  "metadata": {
    "colab": {
      "provenance": [],
      "collapsed_sections": []
    },
    "kernelspec": {
      "name": "python3",
      "display_name": "Python 3"
    },
    "language_info": {
      "name": "python"
    }
  },
  "cells": [
    {
      "cell_type": "markdown",
      "source": [
        "# Trees\n",
        "\n",
        "Table of contents\n",
        "\n",
        "Chapter 1.  Decision trees\n",
        "\n",
        "✔ Chapter 2. Tree ensembles"
      ],
      "metadata": {
        "id": "cKinDn6Jb6qO"
      }
    },
    {
      "cell_type": "markdown",
      "source": [
        "# Chapter 2-1. Use scikit-learn to implement Random Forest"
      ],
      "metadata": {
        "id": "TMj8oogub902"
      }
    },
    {
      "cell_type": "code",
      "execution_count": null,
      "metadata": {
        "id": "bfCzyURAb0t0"
      },
      "outputs": [],
      "source": [
        "from sklearn.ensemble import RandomForestClassifier"
      ]
    },
    {
      "cell_type": "markdown",
      "source": [
        "Define the RandomForest model\n",
        "\n",
        "The following is the hyper-parameters\n",
        "\n",
        "*   n_estimators: the number of trees\n",
        "*   criterion: when choosing the node (e.g., gini impurity and entropy)\n",
        "*   max_depth:  the maximum depth of the tree \n",
        "*   min_samples_split: the minimum number of remaining samples for the split\n",
        "*   max_features: the number of features to be considered. we learned that the typical number will be sqrt(# total features)\n",
        "\n",
        "\n",
        "\n",
        "\n",
        "\n"
      ],
      "metadata": {
        "id": "9eNOly4NealR"
      }
    },
    {
      "cell_type": "markdown",
      "source": [
        "load the breast cancer dataset\n",
        "\n",
        "\n",
        "\n",
        "*   Consist of the following 30 features (and compute mean, stadard error (std / sqrt(N)), and the worst case)\n",
        "\n",
        "  a) radius (mean of distances from center to points on the perimeter)\n",
        "\n",
        "  b) texture (standard deviation of gray-scale values)\n",
        "\n",
        "  c) perimeter\n",
        "\n",
        "  d) area\n",
        "\n",
        "  e) smoothness (local variation in radius lengths)\n",
        "\n",
        "  f) compactness (perimeter^2 / area - 1.0)\n",
        "\n",
        "  g) concavity (severity of concave portions of the contour)\n",
        "\n",
        "  h) concave points (number of concave portions of the contour)\n",
        "\n",
        "  i) symmetry\n",
        "\n",
        "  j) fractal dimension (\"coastline approximation\" - 1)\n",
        "\n"
      ],
      "metadata": {
        "id": "Dix6vjbffYsc"
      }
    },
    {
      "cell_type": "code",
      "source": [
        "from sklearn import datasets\n",
        "from sklearn.model_selection import train_test_split\n",
        "\n",
        "data = datasets.load_breast_cancer()\n",
        "X, y = data.data, data.target\n",
        "\n",
        "X_train, X_test, y_train, y_test = train_test_split(\n",
        "    X, y, test_size=0.2, random_state=1\n",
        ")"
      ],
      "metadata": {
        "id": "5FXgRz07fa0v"
      },
      "execution_count": null,
      "outputs": []
    },
    {
      "cell_type": "code",
      "source": [
        "import pandas as pd\n",
        "\n",
        "df = pd.DataFrame(X_train)"
      ],
      "metadata": {
        "id": "Z6DDBiEUwCsb"
      },
      "execution_count": null,
      "outputs": []
    },
    {
      "cell_type": "code",
      "source": [
        "df.head()"
      ],
      "metadata": {
        "colab": {
          "base_uri": "https://localhost:8080/",
          "height": 236
        },
        "id": "58b3DK-7wT6N",
        "outputId": "75b76459-52a3-4815-b620-04341bf8613c"
      },
      "execution_count": null,
      "outputs": [
        {
          "output_type": "execute_result",
          "data": {
            "text/plain": [
              "      0      1       2       3        4        5         6         7       8   \\\n",
              "0  17.99  20.66  117.80   991.7  0.10360  0.13040  0.120100  0.088240  0.1992   \n",
              "1  20.29  14.34  135.10  1297.0  0.10030  0.13280  0.198000  0.104300  0.1809   \n",
              "2   9.00  14.40   56.36   246.3  0.07005  0.03116  0.003681  0.003472  0.1788   \n",
              "3  12.21  14.09   78.78   462.0  0.08108  0.07823  0.068390  0.025340  0.1646   \n",
              "4  12.34  14.95   78.29   469.1  0.08682  0.04571  0.021090  0.020540  0.1571   \n",
              "\n",
              "        9   ...      20     21      22      23       24       25       26  \\\n",
              "0  0.06069  ...  21.080  25.41  138.10  1349.0  0.14820  0.37350  0.33010   \n",
              "1  0.05883  ...  22.540  16.67  152.20  1575.0  0.13740  0.20500  0.40000   \n",
              "2  0.06833  ...   9.699  20.07   60.90   285.5  0.09861  0.05232  0.01472   \n",
              "3  0.06154  ...  13.130  19.29   87.65   529.9  0.10260  0.24310  0.30760   \n",
              "4  0.05708  ...  13.180  16.85   84.11   533.1  0.10480  0.06744  0.04921   \n",
              "\n",
              "        27      28       29  \n",
              "0  0.19740  0.3060  0.08503  \n",
              "1  0.16250  0.2364  0.07678  \n",
              "2  0.01389  0.2991  0.07804  \n",
              "3  0.09140  0.2677  0.08824  \n",
              "4  0.04793  0.2298  0.05974  \n",
              "\n",
              "[5 rows x 30 columns]"
            ],
            "text/html": [
              "\n",
              "  <div id=\"df-2e3bcf51-e61d-4446-9a02-07b5dec94c38\">\n",
              "    <div class=\"colab-df-container\">\n",
              "      <div>\n",
              "<style scoped>\n",
              "    .dataframe tbody tr th:only-of-type {\n",
              "        vertical-align: middle;\n",
              "    }\n",
              "\n",
              "    .dataframe tbody tr th {\n",
              "        vertical-align: top;\n",
              "    }\n",
              "\n",
              "    .dataframe thead th {\n",
              "        text-align: right;\n",
              "    }\n",
              "</style>\n",
              "<table border=\"1\" class=\"dataframe\">\n",
              "  <thead>\n",
              "    <tr style=\"text-align: right;\">\n",
              "      <th></th>\n",
              "      <th>0</th>\n",
              "      <th>1</th>\n",
              "      <th>2</th>\n",
              "      <th>3</th>\n",
              "      <th>4</th>\n",
              "      <th>5</th>\n",
              "      <th>6</th>\n",
              "      <th>7</th>\n",
              "      <th>8</th>\n",
              "      <th>9</th>\n",
              "      <th>...</th>\n",
              "      <th>20</th>\n",
              "      <th>21</th>\n",
              "      <th>22</th>\n",
              "      <th>23</th>\n",
              "      <th>24</th>\n",
              "      <th>25</th>\n",
              "      <th>26</th>\n",
              "      <th>27</th>\n",
              "      <th>28</th>\n",
              "      <th>29</th>\n",
              "    </tr>\n",
              "  </thead>\n",
              "  <tbody>\n",
              "    <tr>\n",
              "      <th>0</th>\n",
              "      <td>17.99</td>\n",
              "      <td>20.66</td>\n",
              "      <td>117.80</td>\n",
              "      <td>991.7</td>\n",
              "      <td>0.10360</td>\n",
              "      <td>0.13040</td>\n",
              "      <td>0.120100</td>\n",
              "      <td>0.088240</td>\n",
              "      <td>0.1992</td>\n",
              "      <td>0.06069</td>\n",
              "      <td>...</td>\n",
              "      <td>21.080</td>\n",
              "      <td>25.41</td>\n",
              "      <td>138.10</td>\n",
              "      <td>1349.0</td>\n",
              "      <td>0.14820</td>\n",
              "      <td>0.37350</td>\n",
              "      <td>0.33010</td>\n",
              "      <td>0.19740</td>\n",
              "      <td>0.3060</td>\n",
              "      <td>0.08503</td>\n",
              "    </tr>\n",
              "    <tr>\n",
              "      <th>1</th>\n",
              "      <td>20.29</td>\n",
              "      <td>14.34</td>\n",
              "      <td>135.10</td>\n",
              "      <td>1297.0</td>\n",
              "      <td>0.10030</td>\n",
              "      <td>0.13280</td>\n",
              "      <td>0.198000</td>\n",
              "      <td>0.104300</td>\n",
              "      <td>0.1809</td>\n",
              "      <td>0.05883</td>\n",
              "      <td>...</td>\n",
              "      <td>22.540</td>\n",
              "      <td>16.67</td>\n",
              "      <td>152.20</td>\n",
              "      <td>1575.0</td>\n",
              "      <td>0.13740</td>\n",
              "      <td>0.20500</td>\n",
              "      <td>0.40000</td>\n",
              "      <td>0.16250</td>\n",
              "      <td>0.2364</td>\n",
              "      <td>0.07678</td>\n",
              "    </tr>\n",
              "    <tr>\n",
              "      <th>2</th>\n",
              "      <td>9.00</td>\n",
              "      <td>14.40</td>\n",
              "      <td>56.36</td>\n",
              "      <td>246.3</td>\n",
              "      <td>0.07005</td>\n",
              "      <td>0.03116</td>\n",
              "      <td>0.003681</td>\n",
              "      <td>0.003472</td>\n",
              "      <td>0.1788</td>\n",
              "      <td>0.06833</td>\n",
              "      <td>...</td>\n",
              "      <td>9.699</td>\n",
              "      <td>20.07</td>\n",
              "      <td>60.90</td>\n",
              "      <td>285.5</td>\n",
              "      <td>0.09861</td>\n",
              "      <td>0.05232</td>\n",
              "      <td>0.01472</td>\n",
              "      <td>0.01389</td>\n",
              "      <td>0.2991</td>\n",
              "      <td>0.07804</td>\n",
              "    </tr>\n",
              "    <tr>\n",
              "      <th>3</th>\n",
              "      <td>12.21</td>\n",
              "      <td>14.09</td>\n",
              "      <td>78.78</td>\n",
              "      <td>462.0</td>\n",
              "      <td>0.08108</td>\n",
              "      <td>0.07823</td>\n",
              "      <td>0.068390</td>\n",
              "      <td>0.025340</td>\n",
              "      <td>0.1646</td>\n",
              "      <td>0.06154</td>\n",
              "      <td>...</td>\n",
              "      <td>13.130</td>\n",
              "      <td>19.29</td>\n",
              "      <td>87.65</td>\n",
              "      <td>529.9</td>\n",
              "      <td>0.10260</td>\n",
              "      <td>0.24310</td>\n",
              "      <td>0.30760</td>\n",
              "      <td>0.09140</td>\n",
              "      <td>0.2677</td>\n",
              "      <td>0.08824</td>\n",
              "    </tr>\n",
              "    <tr>\n",
              "      <th>4</th>\n",
              "      <td>12.34</td>\n",
              "      <td>14.95</td>\n",
              "      <td>78.29</td>\n",
              "      <td>469.1</td>\n",
              "      <td>0.08682</td>\n",
              "      <td>0.04571</td>\n",
              "      <td>0.021090</td>\n",
              "      <td>0.020540</td>\n",
              "      <td>0.1571</td>\n",
              "      <td>0.05708</td>\n",
              "      <td>...</td>\n",
              "      <td>13.180</td>\n",
              "      <td>16.85</td>\n",
              "      <td>84.11</td>\n",
              "      <td>533.1</td>\n",
              "      <td>0.10480</td>\n",
              "      <td>0.06744</td>\n",
              "      <td>0.04921</td>\n",
              "      <td>0.04793</td>\n",
              "      <td>0.2298</td>\n",
              "      <td>0.05974</td>\n",
              "    </tr>\n",
              "  </tbody>\n",
              "</table>\n",
              "<p>5 rows × 30 columns</p>\n",
              "</div>\n",
              "      <button class=\"colab-df-convert\" onclick=\"convertToInteractive('df-2e3bcf51-e61d-4446-9a02-07b5dec94c38')\"\n",
              "              title=\"Convert this dataframe to an interactive table.\"\n",
              "              style=\"display:none;\">\n",
              "        \n",
              "  <svg xmlns=\"http://www.w3.org/2000/svg\" height=\"24px\"viewBox=\"0 0 24 24\"\n",
              "       width=\"24px\">\n",
              "    <path d=\"M0 0h24v24H0V0z\" fill=\"none\"/>\n",
              "    <path d=\"M18.56 5.44l.94 2.06.94-2.06 2.06-.94-2.06-.94-.94-2.06-.94 2.06-2.06.94zm-11 1L8.5 8.5l.94-2.06 2.06-.94-2.06-.94L8.5 2.5l-.94 2.06-2.06.94zm10 10l.94 2.06.94-2.06 2.06-.94-2.06-.94-.94-2.06-.94 2.06-2.06.94z\"/><path d=\"M17.41 7.96l-1.37-1.37c-.4-.4-.92-.59-1.43-.59-.52 0-1.04.2-1.43.59L10.3 9.45l-7.72 7.72c-.78.78-.78 2.05 0 2.83L4 21.41c.39.39.9.59 1.41.59.51 0 1.02-.2 1.41-.59l7.78-7.78 2.81-2.81c.8-.78.8-2.07 0-2.86zM5.41 20L4 18.59l7.72-7.72 1.47 1.35L5.41 20z\"/>\n",
              "  </svg>\n",
              "      </button>\n",
              "      \n",
              "  <style>\n",
              "    .colab-df-container {\n",
              "      display:flex;\n",
              "      flex-wrap:wrap;\n",
              "      gap: 12px;\n",
              "    }\n",
              "\n",
              "    .colab-df-convert {\n",
              "      background-color: #E8F0FE;\n",
              "      border: none;\n",
              "      border-radius: 50%;\n",
              "      cursor: pointer;\n",
              "      display: none;\n",
              "      fill: #1967D2;\n",
              "      height: 32px;\n",
              "      padding: 0 0 0 0;\n",
              "      width: 32px;\n",
              "    }\n",
              "\n",
              "    .colab-df-convert:hover {\n",
              "      background-color: #E2EBFA;\n",
              "      box-shadow: 0px 1px 2px rgba(60, 64, 67, 0.3), 0px 1px 3px 1px rgba(60, 64, 67, 0.15);\n",
              "      fill: #174EA6;\n",
              "    }\n",
              "\n",
              "    [theme=dark] .colab-df-convert {\n",
              "      background-color: #3B4455;\n",
              "      fill: #D2E3FC;\n",
              "    }\n",
              "\n",
              "    [theme=dark] .colab-df-convert:hover {\n",
              "      background-color: #434B5C;\n",
              "      box-shadow: 0px 1px 3px 1px rgba(0, 0, 0, 0.15);\n",
              "      filter: drop-shadow(0px 1px 2px rgba(0, 0, 0, 0.3));\n",
              "      fill: #FFFFFF;\n",
              "    }\n",
              "  </style>\n",
              "\n",
              "      <script>\n",
              "        const buttonEl =\n",
              "          document.querySelector('#df-2e3bcf51-e61d-4446-9a02-07b5dec94c38 button.colab-df-convert');\n",
              "        buttonEl.style.display =\n",
              "          google.colab.kernel.accessAllowed ? 'block' : 'none';\n",
              "\n",
              "        async function convertToInteractive(key) {\n",
              "          const element = document.querySelector('#df-2e3bcf51-e61d-4446-9a02-07b5dec94c38');\n",
              "          const dataTable =\n",
              "            await google.colab.kernel.invokeFunction('convertToInteractive',\n",
              "                                                     [key], {});\n",
              "          if (!dataTable) return;\n",
              "\n",
              "          const docLinkHtml = 'Like what you see? Visit the ' +\n",
              "            '<a target=\"_blank\" href=https://colab.research.google.com/notebooks/data_table.ipynb>data table notebook</a>'\n",
              "            + ' to learn more about interactive tables.';\n",
              "          element.innerHTML = '';\n",
              "          dataTable['output_type'] = 'display_data';\n",
              "          await google.colab.output.renderOutput(dataTable, element);\n",
              "          const docLink = document.createElement('div');\n",
              "          docLink.innerHTML = docLinkHtml;\n",
              "          element.appendChild(docLink);\n",
              "        }\n",
              "      </script>\n",
              "    </div>\n",
              "  </div>\n",
              "  "
            ]
          },
          "metadata": {},
          "execution_count": 29
        }
      ]
    },
    {
      "cell_type": "code",
      "source": [
        "X.shape"
      ],
      "metadata": {
        "colab": {
          "base_uri": "https://localhost:8080/"
        },
        "id": "R99AnfSjxZnt",
        "outputId": "362ae685-c553-4fa6-81f5-eda001b7e168"
      },
      "execution_count": null,
      "outputs": [
        {
          "output_type": "execute_result",
          "data": {
            "text/plain": [
              "(569, 30)"
            ]
          },
          "metadata": {},
          "execution_count": 2
        }
      ]
    },
    {
      "cell_type": "code",
      "source": [
        "clf = RandomForestClassifier(n_estimators=20, criterion=\"entropy\", max_depth=100, min_samples_split=2, max_features=\"sqrt\", random_state=0)"
      ],
      "metadata": {
        "id": "ZpQaMMaJdTPG"
      },
      "execution_count": null,
      "outputs": []
    },
    {
      "cell_type": "markdown",
      "source": [
        "Use k-fold cross validation"
      ],
      "metadata": {
        "id": "EhU4GijngtyK"
      }
    },
    {
      "cell_type": "code",
      "source": [
        "from sklearn.model_selection import cross_val_score\n",
        "scores = cross_val_score(clf, X, y, cv=5)\n",
        "print(scores)\n",
        "print(sum(scores)/len(scores))"
      ],
      "metadata": {
        "colab": {
          "base_uri": "https://localhost:8080/"
        },
        "id": "LrvwDANRgybC",
        "outputId": "2960391f-0973-4a9f-a02e-6edd30629fdd"
      },
      "execution_count": null,
      "outputs": [
        {
          "output_type": "stream",
          "name": "stdout",
          "text": [
            "[0.93859649 0.92982456 0.98245614 0.96491228 0.97345133]\n",
            "0.9578481602235678\n"
          ]
        }
      ]
    },
    {
      "cell_type": "markdown",
      "source": [
        "What if we use 100 trees in the ensemble?"
      ],
      "metadata": {
        "id": "xAu6e6d3hnG8"
      }
    },
    {
      "cell_type": "code",
      "source": [
        "clf2 = RandomForestClassifier(n_estimators=100, criterion=\"entropy\", max_depth=100, min_samples_split=2, max_features=\"sqrt\", random_state=0)"
      ],
      "metadata": {
        "id": "AxlmdujshfkM"
      },
      "execution_count": null,
      "outputs": []
    },
    {
      "cell_type": "code",
      "source": [
        "scores2 = cross_val_score(clf2, X, y, cv=5)\n",
        "print(scores2)\n",
        "print(sum(scores2)/len(scores2))"
      ],
      "metadata": {
        "colab": {
          "base_uri": "https://localhost:8080/"
        },
        "id": "Zz2Pasqehi3T",
        "outputId": "33a187f3-a0c2-49bd-d89d-87b732518885"
      },
      "execution_count": null,
      "outputs": [
        {
          "output_type": "stream",
          "name": "stdout",
          "text": [
            "[0.94736842 0.92982456 0.99122807 0.97368421 0.97345133]\n",
            "0.9631113181183046\n"
          ]
        }
      ]
    },
    {
      "cell_type": "markdown",
      "source": [
        "What if we use 1000 trees in the ensemble?"
      ],
      "metadata": {
        "id": "j_K2txgChsv4"
      }
    },
    {
      "cell_type": "code",
      "source": [
        "clf3 = RandomForestClassifier(n_estimators=1000, criterion=\"entropy\", max_depth=100, min_samples_split=2, max_features=\"sqrt\", random_state=0)\n",
        "scores3 = cross_val_score(clf3, X, y, cv=5)\n",
        "print(scores3)\n",
        "print(sum(scores3)/len(scores3))"
      ],
      "metadata": {
        "colab": {
          "base_uri": "https://localhost:8080/"
        },
        "id": "XHRAhD-9hvFf",
        "outputId": "de87a42e-f8b3-4799-f23f-f047e7476153"
      },
      "execution_count": null,
      "outputs": [
        {
          "output_type": "stream",
          "name": "stdout",
          "text": [
            "[0.93859649 0.95614035 0.99122807 0.97368421 0.97345133]\n",
            "0.9666200900481293\n"
          ]
        }
      ]
    },
    {
      "cell_type": "markdown",
      "source": [
        "Compute the feature importance for each feature"
      ],
      "metadata": {
        "id": "B9gAAOgevoIH"
      }
    },
    {
      "cell_type": "code",
      "source": [
        "clf3.fit(X_train, y_train)\n",
        "\n",
        "# feature importance is computed using the gini impurity (total decerase in node impurity averaged over all trees in the ensemble)\n",
        "imp_score=clf3.feature_importances_"
      ],
      "metadata": {
        "id": "up1_1VxCvOKO"
      },
      "execution_count": null,
      "outputs": []
    },
    {
      "cell_type": "code",
      "source": [
        "#pick top 5 features\n",
        "import numpy as np\n",
        "\n",
        "# np.argsort returns \"indices\" in ascending order\n",
        "# X[::-1]: reverse X\n",
        "top_indices=np.argsort(imp_score)[::-1][:5]\n",
        "print(top_indices)\n",
        "top_feature_names=[data.feature_names[int(x)] for x in top_indices]\n",
        "print(top_feature_names)"
      ],
      "metadata": {
        "colab": {
          "base_uri": "https://localhost:8080/"
        },
        "id": "JkOF7tHEzCzG",
        "outputId": "d0b3d539-dc65-4ea8-ae22-7244c5faa3cf"
      },
      "execution_count": null,
      "outputs": [
        {
          "output_type": "stream",
          "name": "stdout",
          "text": [
            "[22 27 20 23  7]\n",
            "['worst perimeter', 'worst concave points', 'worst radius', 'worst area', 'mean concave points']\n"
          ]
        }
      ]
    },
    {
      "cell_type": "code",
      "source": [
        "import seaborn as sns\n",
        "import matplotlib.pyplot as plt"
      ],
      "metadata": {
        "id": "Ezj0usJTtOQ4"
      },
      "execution_count": null,
      "outputs": []
    },
    {
      "cell_type": "code",
      "source": [
        "feature_imp = pd.Series(clf3.feature_importances_, index=data.feature_names).sort_values(ascending=False)\n",
        "\n",
        "#print(\"Accuracy: {}\".format(metrics.accuracy_score(y_test, y_pred)))\n",
        "\n",
        "plt.figure(figsize=(10,6))\n",
        "sns.barplot(x=feature_imp, y=feature_imp.index)\n",
        "# Add labels to your graph\n",
        "plt.xlabel('Feature Importance Score')\n",
        "plt.ylabel('Features')\n",
        "plt.title(\"Visualizing Important Features\")\n",
        "plt.tight_layout()"
      ],
      "metadata": {
        "colab": {
          "base_uri": "https://localhost:8080/",
          "height": 441
        },
        "id": "Fjrnmq3StZ18",
        "outputId": "1bf1c739-2abe-4b58-f1dc-0875eea7233a"
      },
      "execution_count": null,
      "outputs": [
        {
          "output_type": "display_data",
          "data": {
            "text/plain": [
              "<Figure size 720x432 with 1 Axes>"
            ],
            "image/png": "[encoded data removed]"
          },
          "metadata": {
            "needs_background": "light"
          }
        }
      ]
    }
  ]
}