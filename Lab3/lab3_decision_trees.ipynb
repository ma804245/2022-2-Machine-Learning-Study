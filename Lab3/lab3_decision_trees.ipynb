{
  "nbformat": 4,
  "nbformat_minor": 0,
  "metadata": {
    "colab": {
      "provenance": [],
      "collapsed_sections": []
    },
    "kernelspec": {
      "name": "python3",
      "display_name": "Python 3"
    },
    "language_info": {
      "name": "python"
    }
  },
  "cells": [
    {
      "cell_type": "markdown",
      "source": [
        "# Trees\n",
        "\n",
        "Table of contents\n",
        "\n",
        "✔ Chapter 1.  Decision trees\n",
        "\n",
        "Chapter 2. Tree ensembles"
      ],
      "metadata": {
        "id": "Va5ZP-djB4kx"
      }
    },
    {
      "cell_type": "markdown",
      "source": [
        "To install further python libraries, type\n",
        "\n",
        "`!pip install --target=$my_path [LIBRARY_NAME]`"
      ],
      "metadata": {
        "id": "NeuwxkHHDBCF"
      }
    },
    {
      "cell_type": "markdown",
      "source": [
        "# Chapter 1-1. Implement from scratch\n",
        "\n"
      ],
      "metadata": {
        "id": "iFoz7kEJDFmF"
      }
    },
    {
      "cell_type": "markdown",
      "source": [
        "Define the class \"Node\""
      ],
      "metadata": {
        "id": "bMvUZcfOEFFf"
      }
    },
    {
      "cell_type": "code",
      "execution_count": 58,
      "metadata": {
        "id": "kOy42XzTB1tE"
      },
      "outputs": [],
      "source": [
        "class Node:\n",
        "    def __init__(self, feature=None, value=None, left=None, right=None, *, label=None):\n",
        "        self.feature = feature\n",
        "        self.value = value\n",
        "        self.left = left\n",
        "        self.right = right\n",
        "        self.label = label\n",
        "    \n",
        "    def is_leaf(self):\n",
        "        return self.label is not None"
      ]
    },
    {
      "cell_type": "markdown",
      "source": [
        "Then, define the class \"DecisionTree\"\n",
        "\n",
        "Before that, let's look at each function to be included in the DecisionTree class"
      ],
      "metadata": {
        "id": "g6NqUTExLyFD"
      }
    },
    {
      "cell_type": "markdown",
      "source": [
        "To traverse the tree, define the traverse function."
      ],
      "metadata": {
        "id": "jf__WeEcPUc6"
      }
    },
    {
      "cell_type": "markdown",
      "source": [
        "First, we need the test to determine the each node of the tree\n",
        "\n",
        "To measure the quality of the test using each feature to determine the node, let's use the entropy"
      ],
      "metadata": {
        "id": "qUbP2BbjEOXO"
      }
    },
    {
      "cell_type": "code",
      "source": [
        "import numpy as np\n",
        "def _entropy(self, y):\n",
        "    # np.bincount: Count number of occurrences of each value in array\n",
        "    weights = np.bincount(y) / len(y)\n",
        "    entropy = -np.sum([w * np.log2(w) for w in weights if w > 0])\n",
        "    return entropy"
      ],
      "metadata": {
        "id": "rtAgOp7oE6kJ"
      },
      "execution_count": 2,
      "outputs": []
    },
    {
      "cell_type": "markdown",
      "source": [
        "Second, more generally people use the information gain when expanding the tree.\n",
        "\n",
        "The information gain can be computed by getting the difference between parent entropy and children_entropy"
      ],
      "metadata": {
        "id": "vmBuK2AoFkiu"
      }
    },
    {
      "cell_type": "code",
      "source": [
        "# information_gain = parent_entropy - children_entropy\n",
        "def _information_gain(self, X, y, value):\n",
        "    parent_entropy = self._entropy(y)\n",
        "\n",
        "    # expand the tree with X \n",
        "    left_idx, right_idx = self._expand_tree(X, value)\n",
        "\n",
        "    n, n_left, n_right = len(y), len(left_idx), len(right_idx)\n",
        "\n",
        "    if n_left == 0 or n_right == 0: \n",
        "        return 0\n",
        "    \n",
        "    # each node has two children (right child and left child)\n",
        "    children_entropy = (n_left / n) * self._entropy(y[left_idx]) + (n_right / n) * self._entropy(y[right_idx])\n",
        "    return parent_entropy - children_entropy"
      ],
      "metadata": {
        "id": "UMfWuycLFu_Z"
      },
      "execution_count": null,
      "outputs": []
    },
    {
      "cell_type": "markdown",
      "source": [
        "Third, split X based on values"
      ],
      "metadata": {
        "id": "XqrWh6baHDgf"
      }
    },
    {
      "cell_type": "code",
      "source": [
        "def _expand_tree(self, X, value):\n",
        "\n",
        "    # np.argwhere: return indices of X which are less than and equal to value\n",
        "    # np.flatten: turn multi-dimensional data into vectors\n",
        "    left_idx = np.argwhere(X <= value).flatten()\n",
        "\n",
        "    # return indices of X which are greater than \n",
        "    right_idx = np.argwhere(X > value).flatten()\n",
        "    return left_idx, right_idx"
      ],
      "metadata": {
        "id": "Nhsqh9LjKHsp"
      },
      "execution_count": null,
      "outputs": []
    },
    {
      "cell_type": "markdown",
      "source": [
        "OK, so now need the function to pick the best feature for each node among available features"
      ],
      "metadata": {
        "id": "ZzJi6YmDLgg4"
      }
    },
    {
      "cell_type": "code",
      "source": [
        "def _best_split(self, X, y, features):\n",
        "    # create split dict in which we record score, feature, and value to keep the split yielding the maximum score \n",
        "    split = {'score':- 1, 'feat': None, 'value': None}\n",
        "\n",
        "    # for each column in 30 columns\n",
        "    for feat in features:\n",
        "        # select one feature column\n",
        "        # example: values in outlook column\n",
        "        X_feat = X[:, feat] \n",
        "\n",
        "        # np.unique: remove duplicates\n",
        "        # create values \n",
        "        values = np.unique(X_feat)\n",
        "\n",
        "        # for each value in the column\n",
        "        for value in values:\n",
        "            \n",
        "            # compute the information gain \n",
        "            score = self._information_gain(X_feat, y, value)\n",
        "\n",
        "            # Update the split with the maximum score\n",
        "            if score > split['score']:\n",
        "                split['score'] = score\n",
        "                split['feat'] = feat\n",
        "                split['value'] = value\n",
        "            \n",
        "    # return the best split with the maximum score (i.e., information gain)\n",
        "    return split['feat'], split['value']"
      ],
      "metadata": {
        "id": "u0xlckXSNoOk"
      },
      "execution_count": null,
      "outputs": []
    },
    {
      "cell_type": "markdown",
      "source": [
        "Next, define the function to build the tree using the best feature picked before"
      ],
      "metadata": {
        "id": "SHM4ly4bO0Ng"
      }
    },
    {
      "cell_type": "code",
      "source": [
        "def _build_tree(self, X, y, depth=0):\n",
        "    self.n_samples, self.n_features = X.shape\n",
        "    self.n_class_labels = len(np.unique(y))\n",
        "\n",
        "    # 1. Check whether go or stop: use stopping criteria using _stop function\n",
        "    if self._stop(depth):\n",
        "        most_common_Label = np.argmax(np.bincount(y))\n",
        "        return Node(label=most_common_Label)\n",
        "    \n",
        "    # 2. find the best split: get the best feature for the current node among 30 features\n",
        "    # random_f carries shuffled feature indices\n",
        "    random_f = np.random.choice(self.n_features, self.n_features, replace=False)\n",
        "    best_feat, best_value = self._best_split(X, y, random_f)\n",
        "\n",
        "    # 3. expand the tree: create the subtrees using the best split\n",
        "    left_idx, right_idx = self._expand_tree(X[:, best_feat], best_value)\n",
        "\n",
        "    # 4. grow the left subtree and right subtree recursively\n",
        "    left_child = self._build_tree(X[left_idx, :], y[left_idx], depth + 1)\n",
        "    right_child = self._build_tree(X[right_idx, :], y[right_idx], depth + 1)\n",
        "    return Node(best_feat, best_value, left_child, right_child)"
      ],
      "metadata": {
        "id": "Tt8TlMJCO4HY"
      },
      "execution_count": null,
      "outputs": []
    },
    {
      "cell_type": "markdown",
      "source": [
        "Then, define the stopping criteria"
      ],
      "metadata": {
        "id": "8NWY9B0MWOl9"
      }
    },
    {
      "cell_type": "code",
      "source": [
        "def _stop(self, depth):\n",
        "    # use the restriction when creating the tree\n",
        "    # first, tree depth (i.e., max_depth)\n",
        "    # second, the number of remaining data point to be used in the split (i.e., min_samples_split)\n",
        "    if (depth >= self.max_depth\n",
        "        or self.n_class_labels == 1\n",
        "        or self.n_samples < self.min_samples_split):\n",
        "        return True\n",
        "    return False"
      ],
      "metadata": {
        "id": "ct1NoC7wWOGG"
      },
      "execution_count": null,
      "outputs": []
    },
    {
      "cell_type": "markdown",
      "source": [
        "Wait, we need to traverse the tree so define it"
      ],
      "metadata": {
        "id": "2J7t22NmP34k"
      }
    },
    {
      "cell_type": "code",
      "source": [
        "# For the evaluation using the testing set, we need a traverse function\n",
        "def _traverse_tree(self, x, node):\n",
        "    if node.is_leaf():\n",
        "        return node.label\n",
        "    \n",
        "    # recursively traverse the tree (left subtree)\n",
        "    # node.feature = feature index, so compare X to current node's value\n",
        "    if x[node.feature] <= node.value:\n",
        "        return self._traverse_tree(x, node.left)\n",
        "    \n",
        "    # recursively traverse the tree (right subtree)\n",
        "    return self._traverse_tree(x, node.right)"
      ],
      "metadata": {
        "id": "S85cxqIVP3WK"
      },
      "execution_count": null,
      "outputs": []
    },
    {
      "cell_type": "markdown",
      "source": [
        "Finally, define the fit and predict functions"
      ],
      "metadata": {
        "id": "QMbjk2UYPjcw"
      }
    },
    {
      "cell_type": "code",
      "source": [
        "def fit(self, X, y):\n",
        "    self.root = self._build_tree(X, y)"
      ],
      "metadata": {
        "id": "fENHm2P5XHMq"
      },
      "execution_count": null,
      "outputs": []
    },
    {
      "cell_type": "code",
      "source": [
        "# Given X, \n",
        "def predict(self, X):\n",
        "    predictions = [self._traverse_tree(x, self.root) for x in X]\n",
        "    return np.array(predictions)"
      ],
      "metadata": {
        "id": "Vq40lHXZPmE8"
      },
      "execution_count": null,
      "outputs": []
    },
    {
      "cell_type": "markdown",
      "source": [
        "Now, we go over all functions needed to define the class \"DecisionTree\""
      ],
      "metadata": {
        "id": "4lYfYUI5QL0W"
      }
    },
    {
      "cell_type": "code",
      "source": [
        "class DecisionTree:\n",
        "\n",
        "    def __init__(self, max_depth=100, min_samples_split=2):\n",
        "        self.max_depth = max_depth\n",
        "        self.min_samples_split = min_samples_split\n",
        "        self.root = None\n",
        "\n",
        "    def _stop(self, depth):\n",
        "        if (depth >= self.max_depth\n",
        "            or self.n_class_labels == 1\n",
        "            or self.n_samples < self.min_samples_split):\n",
        "            return True\n",
        "        return False\n",
        "    \n",
        "    def _entropy(self, y):\n",
        "        # np.bincount: Count number of occurrences of each value in array\n",
        "        weights = np.bincount(y) / len(y)\n",
        "        entropy = -np.sum([w * np.log2(w) for w in weights if w > 0])\n",
        "        return entropy\n",
        "    \n",
        "    def _expand_tree(self, X, value):\n",
        "\n",
        "        # np.argwhere: return indices of X which are less than and equal to value\n",
        "        # np.flatten: turn multi-dimensional data into vectors\n",
        "        left_idx = np.argwhere(X <= value).flatten()\n",
        "\n",
        "        # return indices of X which are greater than \n",
        "        right_idx = np.argwhere(X > value).flatten()\n",
        "        return left_idx, right_idx\n",
        "\n",
        "    # information_gain = parent_entropy - children_entropy\n",
        "    def _information_gain(self, X, y, value):\n",
        "        parent_entropy = self._entropy(y)\n",
        "\n",
        "        # expand the tree with X \n",
        "        left_idx, right_idx = self._expand_tree(X, value)\n",
        "\n",
        "        n, n_left, n_right = len(y), len(left_idx), len(right_idx)\n",
        "\n",
        "        if n_left == 0 or n_right == 0: \n",
        "            return 0\n",
        "        \n",
        "        # each node has two children (right child and left child)\n",
        "        children_entropy = (n_left / n) * self._entropy(y[left_idx]) + (n_right / n) * self._entropy(y[right_idx])\n",
        "        return parent_entropy - children_entropy\n",
        "    \n",
        "    def _best_split(self, X, y, features):\n",
        "        # create split dict in which we record score, feature, and value to keep the split yielding the maximum score \n",
        "        split = {'score':- 1, 'feat': None, 'value': None}\n",
        "\n",
        "        # for each column in 30 columns\n",
        "        for feat in features:\n",
        "            # select one feature column\n",
        "            # example: values in outlook column\n",
        "            X_feat = X[:, feat] \n",
        "\n",
        "            # np.unique: remove duplicates\n",
        "            # create values \n",
        "            values = np.unique(X_feat)\n",
        "\n",
        "            # for each value in the column\n",
        "            for value in values:\n",
        "                \n",
        "                # compute the information gain \n",
        "                score = self._information_gain(X_feat, y, value)\n",
        "\n",
        "                # Update the split with the maximum score\n",
        "                if score > split['score']:\n",
        "                    split['score'] = score\n",
        "                    split['feat'] = feat\n",
        "                    split['value'] = value\n",
        "                \n",
        "        # return the best split with the maximum score (i.e., information gain)\n",
        "        return split['feat'], split['value']\n",
        "    \n",
        "    def _build_tree(self, X, y, depth=0):\n",
        "        self.n_samples, self.n_features = X.shape\n",
        "        self.n_class_labels = len(np.unique(y))\n",
        "\n",
        "        # 1. Check whether go or stop: use stopping criteria using _stop function\n",
        "        if self._stop(depth):\n",
        "            most_common_Label = np.argmax(np.bincount(y))\n",
        "            return Node(label=most_common_Label)\n",
        "        \n",
        "        # 2. find the best split: get the best feature for the current node among 30 features\n",
        "        # random_f carries shuffled feature indices\n",
        "        random_f = np.random.choice(self.n_features, self.n_features, replace=False)\n",
        "        best_feat, best_value = self._best_split(X, y, random_f)\n",
        "\n",
        "        # 3. expand the tree: create the subtrees using the best split\n",
        "        left_idx, right_idx = self._expand_tree(X[:, best_feat], best_value)\n",
        "\n",
        "        # 4. grow the left subtree and right subtree recursively\n",
        "        left_child = self._build_tree(X[left_idx, :], y[left_idx], depth + 1)\n",
        "        right_child = self._build_tree(X[right_idx, :], y[right_idx], depth + 1)\n",
        "        return Node(best_feat, best_value, left_child, right_child)\n",
        "        \n",
        "    def fit(self, X, y):\n",
        "        self.root = self._build_tree(X, y)\n",
        "    '''\n",
        "    class Node:\n",
        "    def __init__(self, feature=None, value=None, left=None, right=None, *, label=None):\n",
        "        self.feature = feature\n",
        "        self.value = value\n",
        "        self.left = left\n",
        "        self.right = right\n",
        "        self.label = label\n",
        "    \n",
        "    def is_leaf(self):\n",
        "        return self.label is not None\n",
        "    '''\n",
        "    \n",
        "    # For the evaluation using the testing set, we need a traverse function\n",
        "    def _traverse_tree(self, x, node):\n",
        "        if node.is_leaf():\n",
        "            return node.label\n",
        "        \n",
        "        # recursively traverse the tree (left subtree)\n",
        "        # node.feature = feature index, so compare X to current node's value\n",
        "        if x[node.feature] <= node.value:\n",
        "            return self._traverse_tree(x, node.left)\n",
        "        \n",
        "        # recursively traverse the tree (right subtree)\n",
        "        return self._traverse_tree(x, node.right)\n",
        "    \n",
        "    def predict(self, X):\n",
        "        predictions = [self._traverse_tree(x, self.root) for x in X]\n",
        "        return np.array(predictions)"
      ],
      "metadata": {
        "id": "BMYe7nrhQRMj"
      },
      "execution_count": 59,
      "outputs": []
    },
    {
      "cell_type": "markdown",
      "source": [
        "Let's test our model using the dataset\n",
        "\n",
        "\n",
        "*   dataset source: sklearn datasets \n",
        "\n"
      ],
      "metadata": {
        "id": "wQsV_q-6YS9D"
      }
    },
    {
      "cell_type": "code",
      "source": [
        "import numpy as np\n",
        "from sklearn import datasets\n",
        "from sklearn.model_selection import train_test_split"
      ],
      "metadata": {
        "id": "kQAqIEwDYaM8"
      },
      "execution_count": 2,
      "outputs": []
    },
    {
      "cell_type": "markdown",
      "source": [
        "load breast cancer dataset\n",
        "\n",
        "*   Consist of the following 30 features (and compute mean, stadard error (std / sqrt(N)), and the worst case)\n",
        "\n",
        "  a) radius (mean of distances from center to points on the perimeter)\n",
        "\n",
        "  b) texture (standard deviation of gray-scale values)\n",
        "\n",
        "  c) perimeter\n",
        "\n",
        "  d) area\n",
        "\n",
        "  e) smoothness (local variation in radius lengths)\n",
        "\n",
        "  f) compactness (perimeter^2 / area - 1.0)\n",
        "\n",
        "  g) concavity (severity of concave portions of the contour)\n",
        "\n",
        "  h) concave points (number of concave portions of the contour)\n",
        "\n",
        "  i) symmetry\n",
        "\n",
        "  j) fractal dimension (\"coastline approximation\" - 1)"
      ],
      "metadata": {
        "id": "2CZpYfvxYsh-"
      }
    },
    {
      "cell_type": "code",
      "source": [
        "data = datasets.load_breast_cancer()\n",
        "X, y = data.data, data.target\n",
        "\n",
        "X_train, X_test, y_train, y_test = train_test_split(\n",
        "    X, y, test_size=0.2, random_state=1\n",
        ")"
      ],
      "metadata": {
        "id": "n9wfhn7_YkfT"
      },
      "execution_count": 3,
      "outputs": []
    },
    {
      "cell_type": "markdown",
      "source": [
        "Overview the dataset"
      ],
      "metadata": {
        "id": "5TMsMtYZxoCP"
      }
    },
    {
      "cell_type": "code",
      "source": [
        "import pandas as pd\n",
        "\n",
        "df = pd.DataFrame(X_train)\n",
        "df.head()"
      ],
      "metadata": {
        "colab": {
          "base_uri": "https://localhost:8080/",
          "height": 236
        },
        "id": "zRRS2tqPxps8",
        "outputId": "4e903d64-9ef2-470d-969c-9042f5269649"
      },
      "execution_count": 35,
      "outputs": [
        {
          "output_type": "execute_result",
          "data": {
            "text/plain": [
              "      0      1       2       3        4        5         6         7       8   \\\n",
              "0  17.99  20.66  117.80   991.7  0.10360  0.13040  0.120100  0.088240  0.1992   \n",
              "1  20.29  14.34  135.10  1297.0  0.10030  0.13280  0.198000  0.104300  0.1809   \n",
              "2   9.00  14.40   56.36   246.3  0.07005  0.03116  0.003681  0.003472  0.1788   \n",
              "3  12.21  14.09   78.78   462.0  0.08108  0.07823  0.068390  0.025340  0.1646   \n",
              "4  12.34  14.95   78.29   469.1  0.08682  0.04571  0.021090  0.020540  0.1571   \n",
              "\n",
              "        9   ...      20     21      22      23       24       25       26  \\\n",
              "0  0.06069  ...  21.080  25.41  138.10  1349.0  0.14820  0.37350  0.33010   \n",
              "1  0.05883  ...  22.540  16.67  152.20  1575.0  0.13740  0.20500  0.40000   \n",
              "2  0.06833  ...   9.699  20.07   60.90   285.5  0.09861  0.05232  0.01472   \n",
              "3  0.06154  ...  13.130  19.29   87.65   529.9  0.10260  0.24310  0.30760   \n",
              "4  0.05708  ...  13.180  16.85   84.11   533.1  0.10480  0.06744  0.04921   \n",
              "\n",
              "        27      28       29  \n",
              "0  0.19740  0.3060  0.08503  \n",
              "1  0.16250  0.2364  0.07678  \n",
              "2  0.01389  0.2991  0.07804  \n",
              "3  0.09140  0.2677  0.08824  \n",
              "4  0.04793  0.2298  0.05974  \n",
              "\n",
              "[5 rows x 30 columns]"
            ],
            "text/html": [
              "\n",
              "  <div id=\"df-13cf319e-4c8a-4236-88a6-0007e5c09bdb\">\n",
              "    <div class=\"colab-df-container\">\n",
              "      <div>\n",
              "<style scoped>\n",
              "    .dataframe tbody tr th:only-of-type {\n",
              "        vertical-align: middle;\n",
              "    }\n",
              "\n",
              "    .dataframe tbody tr th {\n",
              "        vertical-align: top;\n",
              "    }\n",
              "\n",
              "    .dataframe thead th {\n",
              "        text-align: right;\n",
              "    }\n",
              "</style>\n",
              "<table border=\"1\" class=\"dataframe\">\n",
              "  <thead>\n",
              "    <tr style=\"text-align: right;\">\n",
              "      <th></th>\n",
              "      <th>0</th>\n",
              "      <th>1</th>\n",
              "      <th>2</th>\n",
              "      <th>3</th>\n",
              "      <th>4</th>\n",
              "      <th>5</th>\n",
              "      <th>6</th>\n",
              "      <th>7</th>\n",
              "      <th>8</th>\n",
              "      <th>9</th>\n",
              "      <th>...</th>\n",
              "      <th>20</th>\n",
              "      <th>21</th>\n",
              "      <th>22</th>\n",
              "      <th>23</th>\n",
              "      <th>24</th>\n",
              "      <th>25</th>\n",
              "      <th>26</th>\n",
              "      <th>27</th>\n",
              "      <th>28</th>\n",
              "      <th>29</th>\n",
              "    </tr>\n",
              "  </thead>\n",
              "  <tbody>\n",
              "    <tr>\n",
              "      <th>0</th>\n",
              "      <td>17.99</td>\n",
              "      <td>20.66</td>\n",
              "      <td>117.80</td>\n",
              "      <td>991.7</td>\n",
              "      <td>0.10360</td>\n",
              "      <td>0.13040</td>\n",
              "      <td>0.120100</td>\n",
              "      <td>0.088240</td>\n",
              "      <td>0.1992</td>\n",
              "      <td>0.06069</td>\n",
              "      <td>...</td>\n",
              "      <td>21.080</td>\n",
              "      <td>25.41</td>\n",
              "      <td>138.10</td>\n",
              "      <td>1349.0</td>\n",
              "      <td>0.14820</td>\n",
              "      <td>0.37350</td>\n",
              "      <td>0.33010</td>\n",
              "      <td>0.19740</td>\n",
              "      <td>0.3060</td>\n",
              "      <td>0.08503</td>\n",
              "    </tr>\n",
              "    <tr>\n",
              "      <th>1</th>\n",
              "      <td>20.29</td>\n",
              "      <td>14.34</td>\n",
              "      <td>135.10</td>\n",
              "      <td>1297.0</td>\n",
              "      <td>0.10030</td>\n",
              "      <td>0.13280</td>\n",
              "      <td>0.198000</td>\n",
              "      <td>0.104300</td>\n",
              "      <td>0.1809</td>\n",
              "      <td>0.05883</td>\n",
              "      <td>...</td>\n",
              "      <td>22.540</td>\n",
              "      <td>16.67</td>\n",
              "      <td>152.20</td>\n",
              "      <td>1575.0</td>\n",
              "      <td>0.13740</td>\n",
              "      <td>0.20500</td>\n",
              "      <td>0.40000</td>\n",
              "      <td>0.16250</td>\n",
              "      <td>0.2364</td>\n",
              "      <td>0.07678</td>\n",
              "    </tr>\n",
              "    <tr>\n",
              "      <th>2</th>\n",
              "      <td>9.00</td>\n",
              "      <td>14.40</td>\n",
              "      <td>56.36</td>\n",
              "      <td>246.3</td>\n",
              "      <td>0.07005</td>\n",
              "      <td>0.03116</td>\n",
              "      <td>0.003681</td>\n",
              "      <td>0.003472</td>\n",
              "      <td>0.1788</td>\n",
              "      <td>0.06833</td>\n",
              "      <td>...</td>\n",
              "      <td>9.699</td>\n",
              "      <td>20.07</td>\n",
              "      <td>60.90</td>\n",
              "      <td>285.5</td>\n",
              "      <td>0.09861</td>\n",
              "      <td>0.05232</td>\n",
              "      <td>0.01472</td>\n",
              "      <td>0.01389</td>\n",
              "      <td>0.2991</td>\n",
              "      <td>0.07804</td>\n",
              "    </tr>\n",
              "    <tr>\n",
              "      <th>3</th>\n",
              "      <td>12.21</td>\n",
              "      <td>14.09</td>\n",
              "      <td>78.78</td>\n",
              "      <td>462.0</td>\n",
              "      <td>0.08108</td>\n",
              "      <td>0.07823</td>\n",
              "      <td>0.068390</td>\n",
              "      <td>0.025340</td>\n",
              "      <td>0.1646</td>\n",
              "      <td>0.06154</td>\n",
              "      <td>...</td>\n",
              "      <td>13.130</td>\n",
              "      <td>19.29</td>\n",
              "      <td>87.65</td>\n",
              "      <td>529.9</td>\n",
              "      <td>0.10260</td>\n",
              "      <td>0.24310</td>\n",
              "      <td>0.30760</td>\n",
              "      <td>0.09140</td>\n",
              "      <td>0.2677</td>\n",
              "      <td>0.08824</td>\n",
              "    </tr>\n",
              "    <tr>\n",
              "      <th>4</th>\n",
              "      <td>12.34</td>\n",
              "      <td>14.95</td>\n",
              "      <td>78.29</td>\n",
              "      <td>469.1</td>\n",
              "      <td>0.08682</td>\n",
              "      <td>0.04571</td>\n",
              "      <td>0.021090</td>\n",
              "      <td>0.020540</td>\n",
              "      <td>0.1571</td>\n",
              "      <td>0.05708</td>\n",
              "      <td>...</td>\n",
              "      <td>13.180</td>\n",
              "      <td>16.85</td>\n",
              "      <td>84.11</td>\n",
              "      <td>533.1</td>\n",
              "      <td>0.10480</td>\n",
              "      <td>0.06744</td>\n",
              "      <td>0.04921</td>\n",
              "      <td>0.04793</td>\n",
              "      <td>0.2298</td>\n",
              "      <td>0.05974</td>\n",
              "    </tr>\n",
              "  </tbody>\n",
              "</table>\n",
              "<p>5 rows × 30 columns</p>\n",
              "</div>\n",
              "      <button class=\"colab-df-convert\" onclick=\"convertToInteractive('df-13cf319e-4c8a-4236-88a6-0007e5c09bdb')\"\n",
              "              title=\"Convert this dataframe to an interactive table.\"\n",
              "              style=\"display:none;\">\n",
              "        \n",
              "  <svg xmlns=\"http://www.w3.org/2000/svg\" height=\"24px\"viewBox=\"0 0 24 24\"\n",
              "       width=\"24px\">\n",
              "    <path d=\"M0 0h24v24H0V0z\" fill=\"none\"/>\n",
              "    <path d=\"M18.56 5.44l.94 2.06.94-2.06 2.06-.94-2.06-.94-.94-2.06-.94 2.06-2.06.94zm-11 1L8.5 8.5l.94-2.06 2.06-.94-2.06-.94L8.5 2.5l-.94 2.06-2.06.94zm10 10l.94 2.06.94-2.06 2.06-.94-2.06-.94-.94-2.06-.94 2.06-2.06.94z\"/><path d=\"M17.41 7.96l-1.37-1.37c-.4-.4-.92-.59-1.43-.59-.52 0-1.04.2-1.43.59L10.3 9.45l-7.72 7.72c-.78.78-.78 2.05 0 2.83L4 21.41c.39.39.9.59 1.41.59.51 0 1.02-.2 1.41-.59l7.78-7.78 2.81-2.81c.8-.78.8-2.07 0-2.86zM5.41 20L4 18.59l7.72-7.72 1.47 1.35L5.41 20z\"/>\n",
              "  </svg>\n",
              "      </button>\n",
              "      \n",
              "  <style>\n",
              "    .colab-df-container {\n",
              "      display:flex;\n",
              "      flex-wrap:wrap;\n",
              "      gap: 12px;\n",
              "    }\n",
              "\n",
              "    .colab-df-convert {\n",
              "      background-color: #E8F0FE;\n",
              "      border: none;\n",
              "      border-radius: 50%;\n",
              "      cursor: pointer;\n",
              "      display: none;\n",
              "      fill: #1967D2;\n",
              "      height: 32px;\n",
              "      padding: 0 0 0 0;\n",
              "      width: 32px;\n",
              "    }\n",
              "\n",
              "    .colab-df-convert:hover {\n",
              "      background-color: #E2EBFA;\n",
              "      box-shadow: 0px 1px 2px rgba(60, 64, 67, 0.3), 0px 1px 3px 1px rgba(60, 64, 67, 0.15);\n",
              "      fill: #174EA6;\n",
              "    }\n",
              "\n",
              "    [theme=dark] .colab-df-convert {\n",
              "      background-color: #3B4455;\n",
              "      fill: #D2E3FC;\n",
              "    }\n",
              "\n",
              "    [theme=dark] .colab-df-convert:hover {\n",
              "      background-color: #434B5C;\n",
              "      box-shadow: 0px 1px 3px 1px rgba(0, 0, 0, 0.15);\n",
              "      filter: drop-shadow(0px 1px 2px rgba(0, 0, 0, 0.3));\n",
              "      fill: #FFFFFF;\n",
              "    }\n",
              "  </style>\n",
              "\n",
              "      <script>\n",
              "        const buttonEl =\n",
              "          document.querySelector('#df-13cf319e-4c8a-4236-88a6-0007e5c09bdb button.colab-df-convert');\n",
              "        buttonEl.style.display =\n",
              "          google.colab.kernel.accessAllowed ? 'block' : 'none';\n",
              "\n",
              "        async function convertToInteractive(key) {\n",
              "          const element = document.querySelector('#df-13cf319e-4c8a-4236-88a6-0007e5c09bdb');\n",
              "          const dataTable =\n",
              "            await google.colab.kernel.invokeFunction('convertToInteractive',\n",
              "                                                     [key], {});\n",
              "          if (!dataTable) return;\n",
              "\n",
              "          const docLinkHtml = 'Like what you see? Visit the ' +\n",
              "            '<a target=\"_blank\" href=https://colab.research.google.com/notebooks/data_table.ipynb>data table notebook</a>'\n",
              "            + ' to learn more about interactive tables.';\n",
              "          element.innerHTML = '';\n",
              "          dataTable['output_type'] = 'display_data';\n",
              "          await google.colab.output.renderOutput(dataTable, element);\n",
              "          const docLink = document.createElement('div');\n",
              "          docLink.innerHTML = docLinkHtml;\n",
              "          element.appendChild(docLink);\n",
              "        }\n",
              "      </script>\n",
              "    </div>\n",
              "  </div>\n",
              "  "
            ]
          },
          "metadata": {},
          "execution_count": 35
        }
      ]
    },
    {
      "cell_type": "code",
      "source": [
        "X.shape"
      ],
      "metadata": {
        "colab": {
          "base_uri": "https://localhost:8080/"
        },
        "id": "n4ZIdL6ixuGC",
        "outputId": "8996fb1e-2659-440d-8f7b-9a6afee76f61"
      },
      "execution_count": 38,
      "outputs": [
        {
          "output_type": "execute_result",
          "data": {
            "text/plain": [
              "(569, 30)"
            ]
          },
          "metadata": {},
          "execution_count": 38
        }
      ]
    },
    {
      "cell_type": "markdown",
      "source": [
        "Train DecisionTree model"
      ],
      "metadata": {
        "id": "xo8MkyMLYw6t"
      }
    },
    {
      "cell_type": "code",
      "source": [
        "clf = DecisionTree(max_depth=10)\n",
        "clf.fit(X_train, y_train)"
      ],
      "metadata": {
        "id": "NyckLh4NYwb-"
      },
      "execution_count": 60,
      "outputs": []
    },
    {
      "cell_type": "markdown",
      "source": [
        "Define the accuracy metric"
      ],
      "metadata": {
        "id": "dVl62ml_Zpm1"
      }
    },
    {
      "cell_type": "code",
      "source": [
        "def accuracy(y_true, y_pred):\n",
        "    accuracy = np.sum(y_true == y_pred) / len(y_true)\n",
        "    return accuracy"
      ],
      "metadata": {
        "id": "RgO1ylskZpCA"
      },
      "execution_count": 44,
      "outputs": []
    },
    {
      "cell_type": "markdown",
      "source": [
        "Evaluate the trained DecisionTree model using testing set"
      ],
      "metadata": {
        "id": "PFla-Q0AZsdo"
      }
    },
    {
      "cell_type": "code",
      "source": [
        "y_pred = clf.predict(X_test)\n",
        "acc = accuracy(y_test, y_pred)\n",
        "\n",
        "print(\"Accuracy:\", acc)"
      ],
      "metadata": {
        "colab": {
          "base_uri": "https://localhost:8080/"
        },
        "id": "jnGNBNcyZy4J",
        "outputId": "1ecf5756-3de5-4439-a91c-5d7de239e410"
      },
      "execution_count": 61,
      "outputs": [
        {
          "output_type": "stream",
          "name": "stdout",
          "text": [
            "Accuracy: 0.956140350877193\n"
          ]
        }
      ]
    },
    {
      "cell_type": "markdown",
      "source": [
        "# Chapter 1-2. Use scikit-learn library\n"
      ],
      "metadata": {
        "id": "58v_KUL5aNnv"
      }
    },
    {
      "cell_type": "code",
      "source": [
        "from sklearn import tree"
      ],
      "metadata": {
        "id": "XE2DeZC9aWXK"
      },
      "execution_count": 1,
      "outputs": []
    },
    {
      "cell_type": "markdown",
      "source": [
        "Define the tree model and train using training set"
      ],
      "metadata": {
        "id": "jnJBRtShbDNE"
      }
    },
    {
      "cell_type": "code",
      "source": [
        "Dtree = tree.DecisionTreeClassifier(criterion='entropy', max_depth=10, min_samples_split=2, random_state=0)\n",
        "Dtree.fit(X_train, y_train)"
      ],
      "metadata": {
        "colab": {
          "base_uri": "https://localhost:8080/"
        },
        "id": "4yeIJKvRaiuj",
        "outputId": "75dbe801-5dfe-42f0-f287-4276b1d9e898"
      },
      "execution_count": 4,
      "outputs": [
        {
          "output_type": "execute_result",
          "data": {
            "text/plain": [
              "DecisionTreeClassifier(criterion='entropy', max_depth=10, random_state=0)"
            ]
          },
          "metadata": {},
          "execution_count": 4
        }
      ]
    },
    {
      "cell_type": "markdown",
      "source": [
        "Evaluate the trained tree using testing set"
      ],
      "metadata": {
        "id": "g_yssaCgbGJz"
      }
    },
    {
      "cell_type": "code",
      "source": [
        "y_pred2 = Dtree.predict(X_test)\n",
        "print('Accuracy: %.2f' % accuracy(y_test, y_pred2))"
      ],
      "metadata": {
        "colab": {
          "base_uri": "https://localhost:8080/"
        },
        "id": "RXPTd_AuavEm",
        "outputId": "dfc5b25c-c77e-4852-f2c1-8d64a9653c3b"
      },
      "execution_count": 47,
      "outputs": [
        {
          "output_type": "stream",
          "name": "stdout",
          "text": [
            "Accuracy: 0.95\n"
          ]
        }
      ]
    },
    {
      "cell_type": "markdown",
      "source": [
        "Visualize the tree"
      ],
      "metadata": {
        "id": "ZgpXZ1uDng81"
      }
    },
    {
      "cell_type": "code",
      "source": [
        "from sklearn.tree import export_graphviz\n",
        "import pydot\n",
        "import graphviz"
      ],
      "metadata": {
        "id": "aMpiPCtmnhUB"
      },
      "execution_count": 9,
      "outputs": []
    },
    {
      "cell_type": "code",
      "source": [
        "# Export the image to a dot file\n",
        "export_graphviz(Dtree, out_file=\"tree.dot\",feature_names=data.feature_names, class_names=[\"cancer\",\"not cancer\"], filled=True, impurity=False)\n",
        "with open(\"tree.dot\") as f :\n",
        "    dot_graph = f.read()\n",
        "display(graphviz.Source(dot_graph))"
      ],
      "metadata": {
        "colab": {
          "base_uri": "https://localhost:8080/",
          "height": 954
        },
        "id": "cMO0quXaoJqb",
        "outputId": "35aaa49d-4ab7-49d2-ad99-bf3f440ce9f8"
      },
      "execution_count": 11,
      "outputs": [
        {
          "output_type": "display_data",
          "data": {
            "text/plain": [
              "<graphviz.files.Source at 0x7f244eac9190>"
            ],
            "image/svg+xml": "<?xml version=\"1.0\" encoding=\"UTF-8\" standalone=\"no\"?>\n<!DOCTYPE svg PUBLIC \"-//W3C//DTD SVG 1.1//EN\"\n \"http://www.w3.org/Graphics/SVG/1.1/DTD/svg11.dtd\">\n<!-- Generated by graphviz version 2.40.1 (20161225.0304)\n -->\n<!-- Title: Tree Pages: 1 -->\n<svg width=\"1409pt\" height=\"685pt\"\n viewBox=\"0.00 0.00 1409.00 685.00\" xmlns=\"http://www.w3.org/2000/svg\" xmlns:xlink=\"http://www.w3.org/1999/xlink\">\n<g id=\"graph0\" class=\"graph\" transform=\"scale(1 1) rotate(0) translate(4 681)\">\n<title>Tree</title>\n<polygon fill=\"#ffffff\" stroke=\"transparent\" points=\"-4,4 -4,-681 1405,-681 1405,4 -4,4\"/>\n<!-- 0 -->\n<g id=\"node1\" class=\"node\">\n<title>0</title>\n<polygon fill=\"#afd7f5\" stroke=\"#000000\" points=\"811.5,-677 626.5,-677 626.5,-609 811.5,-609 811.5,-677\"/>\n<text text-anchor=\"middle\" x=\"719\" y=\"-661.8\" font-family=\"Helvetica,sans-Serif\" font-size=\"14.00\" fill=\"#000000\">worst perimeter &lt;= 105.15</text>\n<text text-anchor=\"middle\" x=\"719\" y=\"-646.8\" font-family=\"Helvetica,sans-Serif\" font-size=\"14.00\" fill=\"#000000\">samples = 455</text>\n<text text-anchor=\"middle\" x=\"719\" y=\"-631.8\" font-family=\"Helvetica,sans-Serif\" font-size=\"14.00\" fill=\"#000000\">value = [170, 285]</text>\n<text text-anchor=\"middle\" x=\"719\" y=\"-616.8\" font-family=\"Helvetica,sans-Serif\" font-size=\"14.00\" fill=\"#000000\">class = not cancer</text>\n</g>\n<!-- 1 -->\n<g id=\"node2\" class=\"node\">\n<title>1</title>\n<polygon fill=\"#3ea0e6\" stroke=\"#000000\" points=\"626,-573 412,-573 412,-505 626,-505 626,-573\"/>\n<text text-anchor=\"middle\" x=\"519\" y=\"-557.8\" font-family=\"Helvetica,sans-Serif\" font-size=\"14.00\" fill=\"#000000\">worst concave points &lt;= 0.135</text>\n<text text-anchor=\"middle\" x=\"519\" y=\"-542.8\" font-family=\"Helvetica,sans-Serif\" font-size=\"14.00\" fill=\"#000000\">samples = 266</text>\n<text text-anchor=\"middle\" x=\"519\" y=\"-527.8\" font-family=\"Helvetica,sans-Serif\" font-size=\"14.00\" fill=\"#000000\">value = [7, 259]</text>\n<text text-anchor=\"middle\" x=\"519\" y=\"-512.8\" font-family=\"Helvetica,sans-Serif\" font-size=\"14.00\" fill=\"#000000\">class = not cancer</text>\n</g>\n<!-- 0&#45;&gt;1 -->\n<g id=\"edge1\" class=\"edge\">\n<title>0&#45;&gt;1</title>\n<path fill=\"none\" stroke=\"#000000\" d=\"M653.5125,-608.9465C634.3468,-598.9803 613.2533,-588.0117 593.5681,-577.7754\"/>\n<polygon fill=\"#000000\" stroke=\"#000000\" points=\"595.1215,-574.6383 584.6346,-573.13 591.892,-580.8488 595.1215,-574.6383\"/>\n<text text-anchor=\"middle\" x=\"592.1629\" y=\"-593.2696\" font-family=\"Helvetica,sans-Serif\" font-size=\"14.00\" fill=\"#000000\">True</text>\n</g>\n<!-- 14 -->\n<g id=\"node15\" class=\"node\">\n<title>14</title>\n<polygon fill=\"#e99559\" stroke=\"#000000\" points=\"1016,-573 802,-573 802,-505 1016,-505 1016,-573\"/>\n<text text-anchor=\"middle\" x=\"909\" y=\"-557.8\" font-family=\"Helvetica,sans-Serif\" font-size=\"14.00\" fill=\"#000000\">worst concave points &lt;= 0.151</text>\n<text text-anchor=\"middle\" x=\"909\" y=\"-542.8\" font-family=\"Helvetica,sans-Serif\" font-size=\"14.00\" fill=\"#000000\">samples = 189</text>\n<text text-anchor=\"middle\" x=\"909\" y=\"-527.8\" font-family=\"Helvetica,sans-Serif\" font-size=\"14.00\" fill=\"#000000\">value = [163, 26]</text>\n<text text-anchor=\"middle\" x=\"909\" y=\"-512.8\" font-family=\"Helvetica,sans-Serif\" font-size=\"14.00\" fill=\"#000000\">class = cancer</text>\n</g>\n<!-- 0&#45;&gt;14 -->\n<g id=\"edge14\" class=\"edge\">\n<title>0&#45;&gt;14</title>\n<path fill=\"none\" stroke=\"#000000\" d=\"M781.2131,-608.9465C799.2565,-599.0701 819.0985,-588.2093 837.6546,-578.0522\"/>\n<polygon fill=\"#000000\" stroke=\"#000000\" points=\"839.5557,-581.0017 846.6471,-573.13 836.1947,-574.8613 839.5557,-581.0017\"/>\n<text text-anchor=\"middle\" x=\"839.6283\" y=\"-593.4245\" font-family=\"Helvetica,sans-Serif\" font-size=\"14.00\" fill=\"#000000\">False</text>\n</g>\n<!-- 2 -->\n<g id=\"node3\" class=\"node\">\n<title>2</title>\n<polygon fill=\"#3a9de5\" stroke=\"#000000\" points=\"329.5,-469 178.5,-469 178.5,-401 329.5,-401 329.5,-469\"/>\n<text text-anchor=\"middle\" x=\"254\" y=\"-453.8\" font-family=\"Helvetica,sans-Serif\" font-size=\"14.00\" fill=\"#000000\">radius error &lt;= 0.643</text>\n<text text-anchor=\"middle\" x=\"254\" y=\"-438.8\" font-family=\"Helvetica,sans-Serif\" font-size=\"14.00\" fill=\"#000000\">samples = 252</text>\n<text text-anchor=\"middle\" x=\"254\" y=\"-423.8\" font-family=\"Helvetica,sans-Serif\" font-size=\"14.00\" fill=\"#000000\">value = [1, 251]</text>\n<text text-anchor=\"middle\" x=\"254\" y=\"-408.8\" font-family=\"Helvetica,sans-Serif\" font-size=\"14.00\" fill=\"#000000\">class = not cancer</text>\n</g>\n<!-- 1&#45;&gt;2 -->\n<g id=\"edge2\" class=\"edge\">\n<title>1&#45;&gt;2</title>\n<path fill=\"none\" stroke=\"#000000\" d=\"M432.2291,-504.9465C402.3998,-493.2399 369.0462,-480.1502 339.3323,-468.4889\"/>\n<polygon fill=\"#000000\" stroke=\"#000000\" points=\"340.4094,-465.1518 329.8219,-464.7565 337.8521,-471.6679 340.4094,-465.1518\"/>\n</g>\n<!-- 7 -->\n<g id=\"node8\" class=\"node\">\n<title>7</title>\n<polygon fill=\"#cee6f8\" stroke=\"#000000\" points=\"599,-469 439,-469 439,-401 599,-401 599,-469\"/>\n<text text-anchor=\"middle\" x=\"519\" y=\"-453.8\" font-family=\"Helvetica,sans-Serif\" font-size=\"14.00\" fill=\"#000000\">worst texture &lt;= 25.94</text>\n<text text-anchor=\"middle\" x=\"519\" y=\"-438.8\" font-family=\"Helvetica,sans-Serif\" font-size=\"14.00\" fill=\"#000000\">samples = 14</text>\n<text text-anchor=\"middle\" x=\"519\" y=\"-423.8\" font-family=\"Helvetica,sans-Serif\" font-size=\"14.00\" fill=\"#000000\">value = [6, 8]</text>\n<text text-anchor=\"middle\" x=\"519\" y=\"-408.8\" font-family=\"Helvetica,sans-Serif\" font-size=\"14.00\" fill=\"#000000\">class = not cancer</text>\n</g>\n<!-- 1&#45;&gt;7 -->\n<g id=\"edge7\" class=\"edge\">\n<title>1&#45;&gt;7</title>\n<path fill=\"none\" stroke=\"#000000\" d=\"M519,-504.9465C519,-496.776 519,-487.9318 519,-479.3697\"/>\n<polygon fill=\"#000000\" stroke=\"#000000\" points=\"522.5001,-479.13 519,-469.13 515.5001,-479.13 522.5001,-479.13\"/>\n</g>\n<!-- 3 -->\n<g id=\"node4\" class=\"node\">\n<title>3</title>\n<polygon fill=\"#399de5\" stroke=\"#000000\" points=\"134,-357.5 0,-357.5 0,-304.5 134,-304.5 134,-357.5\"/>\n<text text-anchor=\"middle\" x=\"67\" y=\"-342.3\" font-family=\"Helvetica,sans-Serif\" font-size=\"14.00\" fill=\"#000000\">samples = 249</text>\n<text text-anchor=\"middle\" x=\"67\" y=\"-327.3\" font-family=\"Helvetica,sans-Serif\" font-size=\"14.00\" fill=\"#000000\">value = [0, 249]</text>\n<text text-anchor=\"middle\" x=\"67\" y=\"-312.3\" font-family=\"Helvetica,sans-Serif\" font-size=\"14.00\" fill=\"#000000\">class = not cancer</text>\n</g>\n<!-- 2&#45;&gt;3 -->\n<g id=\"edge3\" class=\"edge\">\n<title>2&#45;&gt;3</title>\n<path fill=\"none\" stroke=\"#000000\" d=\"M192.7692,-400.9465C170.4879,-388.5547 145.4198,-374.6132 123.5613,-362.4565\"/>\n<polygon fill=\"#000000\" stroke=\"#000000\" points=\"125.1654,-359.3438 114.7249,-357.5422 121.7631,-365.4614 125.1654,-359.3438\"/>\n</g>\n<!-- 4 -->\n<g id=\"node5\" class=\"node\">\n<title>4</title>\n<polygon fill=\"#9ccef2\" stroke=\"#000000\" points=\"355.5,-365 152.5,-365 152.5,-297 355.5,-297 355.5,-365\"/>\n<text text-anchor=\"middle\" x=\"254\" y=\"-349.8\" font-family=\"Helvetica,sans-Serif\" font-size=\"14.00\" fill=\"#000000\">worst compactness &lt;= 0.085</text>\n<text text-anchor=\"middle\" x=\"254\" y=\"-334.8\" font-family=\"Helvetica,sans-Serif\" font-size=\"14.00\" fill=\"#000000\">samples = 3</text>\n<text text-anchor=\"middle\" x=\"254\" y=\"-319.8\" font-family=\"Helvetica,sans-Serif\" font-size=\"14.00\" fill=\"#000000\">value = [1, 2]</text>\n<text text-anchor=\"middle\" x=\"254\" y=\"-304.8\" font-family=\"Helvetica,sans-Serif\" font-size=\"14.00\" fill=\"#000000\">class = not cancer</text>\n</g>\n<!-- 2&#45;&gt;4 -->\n<g id=\"edge4\" class=\"edge\">\n<title>2&#45;&gt;4</title>\n<path fill=\"none\" stroke=\"#000000\" d=\"M254,-400.9465C254,-392.776 254,-383.9318 254,-375.3697\"/>\n<polygon fill=\"#000000\" stroke=\"#000000\" points=\"257.5001,-375.13 254,-365.13 250.5001,-375.13 257.5001,-375.13\"/>\n</g>\n<!-- 5 -->\n<g id=\"node6\" class=\"node\">\n<title>5</title>\n<polygon fill=\"#e58139\" stroke=\"#000000\" points=\"179,-253.5 69,-253.5 69,-200.5 179,-200.5 179,-253.5\"/>\n<text text-anchor=\"middle\" x=\"124\" y=\"-238.3\" font-family=\"Helvetica,sans-Serif\" font-size=\"14.00\" fill=\"#000000\">samples = 1</text>\n<text text-anchor=\"middle\" x=\"124\" y=\"-223.3\" font-family=\"Helvetica,sans-Serif\" font-size=\"14.00\" fill=\"#000000\">value = [1, 0]</text>\n<text text-anchor=\"middle\" x=\"124\" y=\"-208.3\" font-family=\"Helvetica,sans-Serif\" font-size=\"14.00\" fill=\"#000000\">class = cancer</text>\n</g>\n<!-- 4&#45;&gt;5 -->\n<g id=\"edge5\" class=\"edge\">\n<title>4&#45;&gt;5</title>\n<path fill=\"none\" stroke=\"#000000\" d=\"M211.4331,-296.9465C196.563,-285.0504 179.9075,-271.726 165.1546,-259.9237\"/>\n<polygon fill=\"#000000\" stroke=\"#000000\" points=\"167.1729,-257.0561 157.1777,-253.5422 162.8,-262.5222 167.1729,-257.0561\"/>\n</g>\n<!-- 6 -->\n<g id=\"node7\" class=\"node\">\n<title>6</title>\n<polygon fill=\"#399de5\" stroke=\"#000000\" points=\"331,-253.5 197,-253.5 197,-200.5 331,-200.5 331,-253.5\"/>\n<text text-anchor=\"middle\" x=\"264\" y=\"-238.3\" font-family=\"Helvetica,sans-Serif\" font-size=\"14.00\" fill=\"#000000\">samples = 2</text>\n<text text-anchor=\"middle\" x=\"264\" y=\"-223.3\" font-family=\"Helvetica,sans-Serif\" font-size=\"14.00\" fill=\"#000000\">value = [0, 2]</text>\n<text text-anchor=\"middle\" x=\"264\" y=\"-208.3\" font-family=\"Helvetica,sans-Serif\" font-size=\"14.00\" fill=\"#000000\">class = not cancer</text>\n</g>\n<!-- 4&#45;&gt;6 -->\n<g id=\"edge6\" class=\"edge\">\n<title>4&#45;&gt;6</title>\n<path fill=\"none\" stroke=\"#000000\" d=\"M257.2744,-296.9465C258.3017,-286.2621 259.4399,-274.4254 260.4832,-263.5742\"/>\n<polygon fill=\"#000000\" stroke=\"#000000\" points=\"263.9746,-263.8313 261.4479,-253.5422 257.0067,-263.1612 263.9746,-263.8313\"/>\n</g>\n<!-- 8 -->\n<g id=\"node9\" class=\"node\">\n<title>8</title>\n<polygon fill=\"#399de5\" stroke=\"#000000\" points=\"508,-357.5 374,-357.5 374,-304.5 508,-304.5 508,-357.5\"/>\n<text text-anchor=\"middle\" x=\"441\" y=\"-342.3\" font-family=\"Helvetica,sans-Serif\" font-size=\"14.00\" fill=\"#000000\">samples = 6</text>\n<text text-anchor=\"middle\" x=\"441\" y=\"-327.3\" font-family=\"Helvetica,sans-Serif\" font-size=\"14.00\" fill=\"#000000\">value = [0, 6]</text>\n<text text-anchor=\"middle\" x=\"441\" y=\"-312.3\" font-family=\"Helvetica,sans-Serif\" font-size=\"14.00\" fill=\"#000000\">class = not cancer</text>\n</g>\n<!-- 7&#45;&gt;8 -->\n<g id=\"edge8\" class=\"edge\">\n<title>7&#45;&gt;8</title>\n<path fill=\"none\" stroke=\"#000000\" d=\"M493.4599,-400.9465C484.9509,-389.6012 475.4675,-376.9567 466.9293,-365.5724\"/>\n<polygon fill=\"#000000\" stroke=\"#000000\" points=\"469.7067,-363.4422 460.9066,-357.5422 464.1067,-367.6422 469.7067,-363.4422\"/>\n</g>\n<!-- 9 -->\n<g id=\"node10\" class=\"node\">\n<title>9</title>\n<polygon fill=\"#eeab7b\" stroke=\"#000000\" points=\"731.5,-365 526.5,-365 526.5,-297 731.5,-297 731.5,-365\"/>\n<text text-anchor=\"middle\" x=\"629\" y=\"-349.8\" font-family=\"Helvetica,sans-Serif\" font-size=\"14.00\" fill=\"#000000\">mean compactness &lt;= 0.115</text>\n<text text-anchor=\"middle\" x=\"629\" y=\"-334.8\" font-family=\"Helvetica,sans-Serif\" font-size=\"14.00\" fill=\"#000000\">samples = 8</text>\n<text text-anchor=\"middle\" x=\"629\" y=\"-319.8\" font-family=\"Helvetica,sans-Serif\" font-size=\"14.00\" fill=\"#000000\">value = [6, 2]</text>\n<text text-anchor=\"middle\" x=\"629\" y=\"-304.8\" font-family=\"Helvetica,sans-Serif\" font-size=\"14.00\" fill=\"#000000\">class = cancer</text>\n</g>\n<!-- 7&#45;&gt;9 -->\n<g id=\"edge9\" class=\"edge\">\n<title>7&#45;&gt;9</title>\n<path fill=\"none\" stroke=\"#000000\" d=\"M555.0181,-400.9465C564.7046,-391.7884 575.2864,-381.7838 585.3397,-372.2788\"/>\n<polygon fill=\"#000000\" stroke=\"#000000\" points=\"588.039,-374.5434 592.901,-365.13 583.2299,-369.4569 588.039,-374.5434\"/>\n</g>\n<!-- 10 -->\n<g id=\"node11\" class=\"node\">\n<title>10</title>\n<polygon fill=\"#9ccef2\" stroke=\"#000000\" points=\"555.5,-261 360.5,-261 360.5,-193 555.5,-193 555.5,-261\"/>\n<text text-anchor=\"middle\" x=\"458\" y=\"-245.8\" font-family=\"Helvetica,sans-Serif\" font-size=\"14.00\" fill=\"#000000\">worst smoothness &lt;= 0.135</text>\n<text text-anchor=\"middle\" x=\"458\" y=\"-230.8\" font-family=\"Helvetica,sans-Serif\" font-size=\"14.00\" fill=\"#000000\">samples = 3</text>\n<text text-anchor=\"middle\" x=\"458\" y=\"-215.8\" font-family=\"Helvetica,sans-Serif\" font-size=\"14.00\" fill=\"#000000\">value = [1, 2]</text>\n<text text-anchor=\"middle\" x=\"458\" y=\"-200.8\" font-family=\"Helvetica,sans-Serif\" font-size=\"14.00\" fill=\"#000000\">class = not cancer</text>\n</g>\n<!-- 9&#45;&gt;10 -->\n<g id=\"edge10\" class=\"edge\">\n<title>9&#45;&gt;10</title>\n<path fill=\"none\" stroke=\"#000000\" d=\"M573.0082,-296.9465C556.9168,-287.1599 539.2359,-276.4066 522.6666,-266.3294\"/>\n<polygon fill=\"#000000\" stroke=\"#000000\" points=\"524.4802,-263.336 514.1176,-261.13 520.8428,-269.3167 524.4802,-263.336\"/>\n</g>\n<!-- 13 -->\n<g id=\"node14\" class=\"node\">\n<title>13</title>\n<polygon fill=\"#e58139\" stroke=\"#000000\" points=\"684,-253.5 574,-253.5 574,-200.5 684,-200.5 684,-253.5\"/>\n<text text-anchor=\"middle\" x=\"629\" y=\"-238.3\" font-family=\"Helvetica,sans-Serif\" font-size=\"14.00\" fill=\"#000000\">samples = 5</text>\n<text text-anchor=\"middle\" x=\"629\" y=\"-223.3\" font-family=\"Helvetica,sans-Serif\" font-size=\"14.00\" fill=\"#000000\">value = [5, 0]</text>\n<text text-anchor=\"middle\" x=\"629\" y=\"-208.3\" font-family=\"Helvetica,sans-Serif\" font-size=\"14.00\" fill=\"#000000\">class = cancer</text>\n</g>\n<!-- 9&#45;&gt;13 -->\n<g id=\"edge13\" class=\"edge\">\n<title>9&#45;&gt;13</title>\n<path fill=\"none\" stroke=\"#000000\" d=\"M629,-296.9465C629,-286.2621 629,-274.4254 629,-263.5742\"/>\n<polygon fill=\"#000000\" stroke=\"#000000\" points=\"632.5001,-263.5421 629,-253.5422 625.5001,-263.5422 632.5001,-263.5421\"/>\n</g>\n<!-- 11 -->\n<g id=\"node12\" class=\"node\">\n<title>11</title>\n<polygon fill=\"#e58139\" stroke=\"#000000\" points=\"395,-149.5 285,-149.5 285,-96.5 395,-96.5 395,-149.5\"/>\n<text text-anchor=\"middle\" x=\"340\" y=\"-134.3\" font-family=\"Helvetica,sans-Serif\" font-size=\"14.00\" fill=\"#000000\">samples = 1</text>\n<text text-anchor=\"middle\" x=\"340\" y=\"-119.3\" font-family=\"Helvetica,sans-Serif\" font-size=\"14.00\" fill=\"#000000\">value = [1, 0]</text>\n<text text-anchor=\"middle\" x=\"340\" y=\"-104.3\" font-family=\"Helvetica,sans-Serif\" font-size=\"14.00\" fill=\"#000000\">class = cancer</text>\n</g>\n<!-- 10&#45;&gt;11 -->\n<g id=\"edge11\" class=\"edge\">\n<title>10&#45;&gt;11</title>\n<path fill=\"none\" stroke=\"#000000\" d=\"M419.3624,-192.9465C405.9899,-181.1606 391.0266,-167.9726 377.7281,-156.2519\"/>\n<polygon fill=\"#000000\" stroke=\"#000000\" points=\"379.9315,-153.5285 370.1151,-149.5422 375.303,-158.7799 379.9315,-153.5285\"/>\n</g>\n<!-- 12 -->\n<g id=\"node13\" class=\"node\">\n<title>12</title>\n<polygon fill=\"#399de5\" stroke=\"#000000\" points=\"547,-149.5 413,-149.5 413,-96.5 547,-96.5 547,-149.5\"/>\n<text text-anchor=\"middle\" x=\"480\" y=\"-134.3\" font-family=\"Helvetica,sans-Serif\" font-size=\"14.00\" fill=\"#000000\">samples = 2</text>\n<text text-anchor=\"middle\" x=\"480\" y=\"-119.3\" font-family=\"Helvetica,sans-Serif\" font-size=\"14.00\" fill=\"#000000\">value = [0, 2]</text>\n<text text-anchor=\"middle\" x=\"480\" y=\"-104.3\" font-family=\"Helvetica,sans-Serif\" font-size=\"14.00\" fill=\"#000000\">class = not cancer</text>\n</g>\n<!-- 10&#45;&gt;12 -->\n<g id=\"edge12\" class=\"edge\">\n<title>10&#45;&gt;12</title>\n<path fill=\"none\" stroke=\"#000000\" d=\"M465.2036,-192.9465C467.4638,-182.2621 469.9677,-170.4254 472.2631,-159.5742\"/>\n<polygon fill=\"#000000\" stroke=\"#000000\" points=\"475.7399,-160.05 474.3853,-149.5422 468.8914,-158.6013 475.7399,-160.05\"/>\n</g>\n<!-- 15 -->\n<g id=\"node16\" class=\"node\">\n<title>15</title>\n<polygon fill=\"#fcf2ea\" stroke=\"#000000\" points=\"989,-469 829,-469 829,-401 989,-401 989,-469\"/>\n<text text-anchor=\"middle\" x=\"909\" y=\"-453.8\" font-family=\"Helvetica,sans-Serif\" font-size=\"14.00\" fill=\"#000000\">worst texture &lt;= 19.91</text>\n<text text-anchor=\"middle\" x=\"909\" y=\"-438.8\" font-family=\"Helvetica,sans-Serif\" font-size=\"14.00\" fill=\"#000000\">samples = 53</text>\n<text text-anchor=\"middle\" x=\"909\" y=\"-423.8\" font-family=\"Helvetica,sans-Serif\" font-size=\"14.00\" fill=\"#000000\">value = [28, 25]</text>\n<text text-anchor=\"middle\" x=\"909\" y=\"-408.8\" font-family=\"Helvetica,sans-Serif\" font-size=\"14.00\" fill=\"#000000\">class = cancer</text>\n</g>\n<!-- 14&#45;&gt;15 -->\n<g id=\"edge15\" class=\"edge\">\n<title>14&#45;&gt;15</title>\n<path fill=\"none\" stroke=\"#000000\" d=\"M909,-504.9465C909,-496.776 909,-487.9318 909,-479.3697\"/>\n<polygon fill=\"#000000\" stroke=\"#000000\" points=\"912.5001,-479.13 909,-469.13 905.5001,-479.13 912.5001,-479.13\"/>\n</g>\n<!-- 28 -->\n<g id=\"node29\" class=\"node\">\n<title>28</title>\n<polygon fill=\"#e5823a\" stroke=\"#000000\" points=\"1265,-469 1095,-469 1095,-401 1265,-401 1265,-469\"/>\n<text text-anchor=\"middle\" x=\"1180\" y=\"-453.8\" font-family=\"Helvetica,sans-Serif\" font-size=\"14.00\" fill=\"#000000\">mean texture &lt;= 15.345</text>\n<text text-anchor=\"middle\" x=\"1180\" y=\"-438.8\" font-family=\"Helvetica,sans-Serif\" font-size=\"14.00\" fill=\"#000000\">samples = 136</text>\n<text text-anchor=\"middle\" x=\"1180\" y=\"-423.8\" font-family=\"Helvetica,sans-Serif\" font-size=\"14.00\" fill=\"#000000\">value = [135, 1]</text>\n<text text-anchor=\"middle\" x=\"1180\" y=\"-408.8\" font-family=\"Helvetica,sans-Serif\" font-size=\"14.00\" fill=\"#000000\">class = cancer</text>\n</g>\n<!-- 14&#45;&gt;28 -->\n<g id=\"edge28\" class=\"edge\">\n<title>14&#45;&gt;28</title>\n<path fill=\"none\" stroke=\"#000000\" d=\"M997.7355,-504.9465C1025.7504,-494.1954 1056.8052,-482.2777 1085.2249,-471.3713\"/>\n<polygon fill=\"#000000\" stroke=\"#000000\" points=\"1086.6715,-474.565 1094.7536,-467.7145 1084.1635,-468.0298 1086.6715,-474.565\"/>\n</g>\n<!-- 16 -->\n<g id=\"node17\" class=\"node\">\n<title>16</title>\n<polygon fill=\"#399de5\" stroke=\"#000000\" points=\"897,-357.5 763,-357.5 763,-304.5 897,-304.5 897,-357.5\"/>\n<text text-anchor=\"middle\" x=\"830\" y=\"-342.3\" font-family=\"Helvetica,sans-Serif\" font-size=\"14.00\" fill=\"#000000\">samples = 13</text>\n<text text-anchor=\"middle\" x=\"830\" y=\"-327.3\" font-family=\"Helvetica,sans-Serif\" font-size=\"14.00\" fill=\"#000000\">value = [0, 13]</text>\n<text text-anchor=\"middle\" x=\"830\" y=\"-312.3\" font-family=\"Helvetica,sans-Serif\" font-size=\"14.00\" fill=\"#000000\">class = not cancer</text>\n</g>\n<!-- 15&#45;&gt;16 -->\n<g id=\"edge16\" class=\"edge\">\n<title>15&#45;&gt;16</title>\n<path fill=\"none\" stroke=\"#000000\" d=\"M883.1324,-400.9465C874.5143,-389.6012 864.9094,-376.9567 856.2617,-365.5724\"/>\n<polygon fill=\"#000000\" stroke=\"#000000\" points=\"858.9979,-363.3882 850.1618,-357.5422 853.4237,-367.6224 858.9979,-363.3882\"/>\n</g>\n<!-- 17 -->\n<g id=\"node18\" class=\"node\">\n<title>17</title>\n<polygon fill=\"#f0b78e\" stroke=\"#000000\" points=\"1062.5,-365 915.5,-365 915.5,-297 1062.5,-297 1062.5,-365\"/>\n<text text-anchor=\"middle\" x=\"989\" y=\"-349.8\" font-family=\"Helvetica,sans-Serif\" font-size=\"14.00\" fill=\"#000000\">worst radius &lt;= 16.8</text>\n<text text-anchor=\"middle\" x=\"989\" y=\"-334.8\" font-family=\"Helvetica,sans-Serif\" font-size=\"14.00\" fill=\"#000000\">samples = 40</text>\n<text text-anchor=\"middle\" x=\"989\" y=\"-319.8\" font-family=\"Helvetica,sans-Serif\" font-size=\"14.00\" fill=\"#000000\">value = [28, 12]</text>\n<text text-anchor=\"middle\" x=\"989\" y=\"-304.8\" font-family=\"Helvetica,sans-Serif\" font-size=\"14.00\" fill=\"#000000\">class = cancer</text>\n</g>\n<!-- 15&#45;&gt;17 -->\n<g id=\"edge17\" class=\"edge\">\n<title>15&#45;&gt;17</title>\n<path fill=\"none\" stroke=\"#000000\" d=\"M935.195,-400.9465C942.0325,-392.0578 949.4834,-382.3716 956.601,-373.1188\"/>\n<polygon fill=\"#000000\" stroke=\"#000000\" points=\"959.4232,-375.1903 962.7462,-365.13 953.8748,-370.9223 959.4232,-375.1903\"/>\n</g>\n<!-- 18 -->\n<g id=\"node19\" class=\"node\">\n<title>18</title>\n<polygon fill=\"#9ccef2\" stroke=\"#000000\" points=\"899.5,-261 702.5,-261 702.5,-193 899.5,-193 899.5,-261\"/>\n<text text-anchor=\"middle\" x=\"801\" y=\"-245.8\" font-family=\"Helvetica,sans-Serif\" font-size=\"14.00\" fill=\"#000000\">mean smoothness &lt;= 0.092</text>\n<text text-anchor=\"middle\" x=\"801\" y=\"-230.8\" font-family=\"Helvetica,sans-Serif\" font-size=\"14.00\" fill=\"#000000\">samples = 15</text>\n<text text-anchor=\"middle\" x=\"801\" y=\"-215.8\" font-family=\"Helvetica,sans-Serif\" font-size=\"14.00\" fill=\"#000000\">value = [5, 10]</text>\n<text text-anchor=\"middle\" x=\"801\" y=\"-200.8\" font-family=\"Helvetica,sans-Serif\" font-size=\"14.00\" fill=\"#000000\">class = not cancer</text>\n</g>\n<!-- 17&#45;&gt;18 -->\n<g id=\"edge18\" class=\"edge\">\n<title>17&#45;&gt;18</title>\n<path fill=\"none\" stroke=\"#000000\" d=\"M927.4418,-296.9465C909.5883,-287.0701 889.9552,-276.2093 871.5944,-266.0522\"/>\n<polygon fill=\"#000000\" stroke=\"#000000\" points=\"873.1411,-262.908 862.6965,-261.13 869.7527,-269.0333 873.1411,-262.908\"/>\n</g>\n<!-- 23 -->\n<g id=\"node24\" class=\"node\">\n<title>23</title>\n<polygon fill=\"#e78c4a\" stroke=\"#000000\" points=\"1094.5,-261 917.5,-261 917.5,-193 1094.5,-193 1094.5,-261\"/>\n<text text-anchor=\"middle\" x=\"1006\" y=\"-245.8\" font-family=\"Helvetica,sans-Serif\" font-size=\"14.00\" fill=\"#000000\">worst concavity &lt;= 0.207</text>\n<text text-anchor=\"middle\" x=\"1006\" y=\"-230.8\" font-family=\"Helvetica,sans-Serif\" font-size=\"14.00\" fill=\"#000000\">samples = 25</text>\n<text text-anchor=\"middle\" x=\"1006\" y=\"-215.8\" font-family=\"Helvetica,sans-Serif\" font-size=\"14.00\" fill=\"#000000\">value = [23, 2]</text>\n<text text-anchor=\"middle\" x=\"1006\" y=\"-200.8\" font-family=\"Helvetica,sans-Serif\" font-size=\"14.00\" fill=\"#000000\">class = cancer</text>\n</g>\n<!-- 17&#45;&gt;23 -->\n<g id=\"edge23\" class=\"edge\">\n<title>17&#45;&gt;23</title>\n<path fill=\"none\" stroke=\"#000000\" d=\"M994.5664,-296.9465C995.9167,-288.6863 997.3795,-279.7374 998.7934,-271.0875\"/>\n<polygon fill=\"#000000\" stroke=\"#000000\" points=\"1002.2619,-271.5637 1000.4211,-261.13 995.3536,-270.4344 1002.2619,-271.5637\"/>\n</g>\n<!-- 19 -->\n<g id=\"node20\" class=\"node\">\n<title>19</title>\n<polygon fill=\"#399de5\" stroke=\"#000000\" points=\"715,-149.5 581,-149.5 581,-96.5 715,-96.5 715,-149.5\"/>\n<text text-anchor=\"middle\" x=\"648\" y=\"-134.3\" font-family=\"Helvetica,sans-Serif\" font-size=\"14.00\" fill=\"#000000\">samples = 8</text>\n<text text-anchor=\"middle\" x=\"648\" y=\"-119.3\" font-family=\"Helvetica,sans-Serif\" font-size=\"14.00\" fill=\"#000000\">value = [0, 8]</text>\n<text text-anchor=\"middle\" x=\"648\" y=\"-104.3\" font-family=\"Helvetica,sans-Serif\" font-size=\"14.00\" fill=\"#000000\">class = not cancer</text>\n</g>\n<!-- 18&#45;&gt;19 -->\n<g id=\"edge19\" class=\"edge\">\n<title>18&#45;&gt;19</title>\n<path fill=\"none\" stroke=\"#000000\" d=\"M750.9021,-192.9465C733.077,-180.8301 713.0721,-167.232 695.4735,-155.2696\"/>\n<polygon fill=\"#000000\" stroke=\"#000000\" points=\"697.2855,-152.2692 687.0476,-149.5422 693.3503,-158.0584 697.2855,-152.2692\"/>\n</g>\n<!-- 20 -->\n<g id=\"node21\" class=\"node\">\n<title>20</title>\n<polygon fill=\"#efb388\" stroke=\"#000000\" points=\"878.5,-157 733.5,-157 733.5,-89 878.5,-89 878.5,-157\"/>\n<text text-anchor=\"middle\" x=\"806\" y=\"-141.8\" font-family=\"Helvetica,sans-Serif\" font-size=\"14.00\" fill=\"#000000\">worst area &lt;= 843.9</text>\n<text text-anchor=\"middle\" x=\"806\" y=\"-126.8\" font-family=\"Helvetica,sans-Serif\" font-size=\"14.00\" fill=\"#000000\">samples = 7</text>\n<text text-anchor=\"middle\" x=\"806\" y=\"-111.8\" font-family=\"Helvetica,sans-Serif\" font-size=\"14.00\" fill=\"#000000\">value = [5, 2]</text>\n<text text-anchor=\"middle\" x=\"806\" y=\"-96.8\" font-family=\"Helvetica,sans-Serif\" font-size=\"14.00\" fill=\"#000000\">class = cancer</text>\n</g>\n<!-- 18&#45;&gt;20 -->\n<g id=\"edge20\" class=\"edge\">\n<title>18&#45;&gt;20</title>\n<path fill=\"none\" stroke=\"#000000\" d=\"M802.6372,-192.9465C803.03,-184.776 803.4552,-175.9318 803.8668,-167.3697\"/>\n<polygon fill=\"#000000\" stroke=\"#000000\" points=\"807.3748,-167.2866 804.3591,-157.13 800.3829,-166.9504 807.3748,-167.2866\"/>\n</g>\n<!-- 21 -->\n<g id=\"node22\" class=\"node\">\n<title>21</title>\n<polygon fill=\"#e58139\" stroke=\"#000000\" points=\"735,-53 625,-53 625,0 735,0 735,-53\"/>\n<text text-anchor=\"middle\" x=\"680\" y=\"-37.8\" font-family=\"Helvetica,sans-Serif\" font-size=\"14.00\" fill=\"#000000\">samples = 5</text>\n<text text-anchor=\"middle\" x=\"680\" y=\"-22.8\" font-family=\"Helvetica,sans-Serif\" font-size=\"14.00\" fill=\"#000000\">value = [5, 0]</text>\n<text text-anchor=\"middle\" x=\"680\" y=\"-7.8\" font-family=\"Helvetica,sans-Serif\" font-size=\"14.00\" fill=\"#000000\">class = cancer</text>\n</g>\n<!-- 20&#45;&gt;21 -->\n<g id=\"edge21\" class=\"edge\">\n<title>20&#45;&gt;21</title>\n<path fill=\"none\" stroke=\"#000000\" d=\"M761.5771,-88.9777C749.023,-79.3629 735.3881,-68.9203 722.924,-59.3743\"/>\n<polygon fill=\"#000000\" stroke=\"#000000\" points=\"724.9927,-56.5502 714.9255,-53.2485 720.7365,-62.1076 724.9927,-56.5502\"/>\n</g>\n<!-- 22 -->\n<g id=\"node23\" class=\"node\">\n<title>22</title>\n<polygon fill=\"#399de5\" stroke=\"#000000\" points=\"887,-53 753,-53 753,0 887,0 887,-53\"/>\n<text text-anchor=\"middle\" x=\"820\" y=\"-37.8\" font-family=\"Helvetica,sans-Serif\" font-size=\"14.00\" fill=\"#000000\">samples = 2</text>\n<text text-anchor=\"middle\" x=\"820\" y=\"-22.8\" font-family=\"Helvetica,sans-Serif\" font-size=\"14.00\" fill=\"#000000\">value = [0, 2]</text>\n<text text-anchor=\"middle\" x=\"820\" y=\"-7.8\" font-family=\"Helvetica,sans-Serif\" font-size=\"14.00\" fill=\"#000000\">class = not cancer</text>\n</g>\n<!-- 20&#45;&gt;22 -->\n<g id=\"edge22\" class=\"edge\">\n<title>20&#45;&gt;22</title>\n<path fill=\"none\" stroke=\"#000000\" d=\"M810.9359,-88.9777C812.1448,-80.6449 813.4439,-71.6903 814.6704,-63.2364\"/>\n<polygon fill=\"#000000\" stroke=\"#000000\" points=\"818.1473,-63.6474 816.1194,-53.2485 811.2198,-62.6423 818.1473,-63.6474\"/>\n</g>\n<!-- 24 -->\n<g id=\"node25\" class=\"node\">\n<title>24</title>\n<polygon fill=\"#ffffff\" stroke=\"#000000\" points=\"1108.5,-157 899.5,-157 899.5,-89 1108.5,-89 1108.5,-157\"/>\n<text text-anchor=\"middle\" x=\"1004\" y=\"-141.8\" font-family=\"Helvetica,sans-Serif\" font-size=\"14.00\" fill=\"#000000\">concave points error &lt;= 0.009</text>\n<text text-anchor=\"middle\" x=\"1004\" y=\"-126.8\" font-family=\"Helvetica,sans-Serif\" font-size=\"14.00\" fill=\"#000000\">samples = 4</text>\n<text text-anchor=\"middle\" x=\"1004\" y=\"-111.8\" font-family=\"Helvetica,sans-Serif\" font-size=\"14.00\" fill=\"#000000\">value = [2, 2]</text>\n<text text-anchor=\"middle\" x=\"1004\" y=\"-96.8\" font-family=\"Helvetica,sans-Serif\" font-size=\"14.00\" fill=\"#000000\">class = cancer</text>\n</g>\n<!-- 23&#45;&gt;24 -->\n<g id=\"edge24\" class=\"edge\">\n<title>23&#45;&gt;24</title>\n<path fill=\"none\" stroke=\"#000000\" d=\"M1005.3451,-192.9465C1005.188,-184.776 1005.0179,-175.9318 1004.8533,-167.3697\"/>\n<polygon fill=\"#000000\" stroke=\"#000000\" points=\"1008.3481,-167.0608 1004.6563,-157.13 1001.3494,-167.1955 1008.3481,-167.0608\"/>\n</g>\n<!-- 27 -->\n<g id=\"node28\" class=\"node\">\n<title>27</title>\n<polygon fill=\"#e58139\" stroke=\"#000000\" points=\"1237,-149.5 1127,-149.5 1127,-96.5 1237,-96.5 1237,-149.5\"/>\n<text text-anchor=\"middle\" x=\"1182\" y=\"-134.3\" font-family=\"Helvetica,sans-Serif\" font-size=\"14.00\" fill=\"#000000\">samples = 21</text>\n<text text-anchor=\"middle\" x=\"1182\" y=\"-119.3\" font-family=\"Helvetica,sans-Serif\" font-size=\"14.00\" fill=\"#000000\">value = [21, 0]</text>\n<text text-anchor=\"middle\" x=\"1182\" y=\"-104.3\" font-family=\"Helvetica,sans-Serif\" font-size=\"14.00\" fill=\"#000000\">class = cancer</text>\n</g>\n<!-- 23&#45;&gt;27 -->\n<g id=\"edge27\" class=\"edge\">\n<title>23&#45;&gt;27</title>\n<path fill=\"none\" stroke=\"#000000\" d=\"M1063.629,-192.9465C1084.4133,-180.6649 1107.7739,-166.8609 1128.2165,-154.7811\"/>\n<polygon fill=\"#000000\" stroke=\"#000000\" points=\"1130.2538,-157.6428 1137.0825,-149.5422 1126.6926,-151.6163 1130.2538,-157.6428\"/>\n</g>\n<!-- 25 -->\n<g id=\"node26\" class=\"node\">\n<title>25</title>\n<polygon fill=\"#e58139\" stroke=\"#000000\" points=\"1047,-53 937,-53 937,0 1047,0 1047,-53\"/>\n<text text-anchor=\"middle\" x=\"992\" y=\"-37.8\" font-family=\"Helvetica,sans-Serif\" font-size=\"14.00\" fill=\"#000000\">samples = 2</text>\n<text text-anchor=\"middle\" x=\"992\" y=\"-22.8\" font-family=\"Helvetica,sans-Serif\" font-size=\"14.00\" fill=\"#000000\">value = [2, 0]</text>\n<text text-anchor=\"middle\" x=\"992\" y=\"-7.8\" font-family=\"Helvetica,sans-Serif\" font-size=\"14.00\" fill=\"#000000\">class = cancer</text>\n</g>\n<!-- 24&#45;&gt;25 -->\n<g id=\"edge25\" class=\"edge\">\n<title>24&#45;&gt;25</title>\n<path fill=\"none\" stroke=\"#000000\" d=\"M999.7692,-88.9777C998.733,-80.6449 997.6195,-71.6903 996.5683,-63.2364\"/>\n<polygon fill=\"#000000\" stroke=\"#000000\" points=\"1000.0336,-62.7401 995.3262,-53.2485 993.0871,-63.604 1000.0336,-62.7401\"/>\n</g>\n<!-- 26 -->\n<g id=\"node27\" class=\"node\">\n<title>26</title>\n<polygon fill=\"#399de5\" stroke=\"#000000\" points=\"1199,-53 1065,-53 1065,0 1199,0 1199,-53\"/>\n<text text-anchor=\"middle\" x=\"1132\" y=\"-37.8\" font-family=\"Helvetica,sans-Serif\" font-size=\"14.00\" fill=\"#000000\">samples = 2</text>\n<text text-anchor=\"middle\" x=\"1132\" y=\"-22.8\" font-family=\"Helvetica,sans-Serif\" font-size=\"14.00\" fill=\"#000000\">value = [0, 2]</text>\n<text text-anchor=\"middle\" x=\"1132\" y=\"-7.8\" font-family=\"Helvetica,sans-Serif\" font-size=\"14.00\" fill=\"#000000\">class = not cancer</text>\n</g>\n<!-- 24&#45;&gt;26 -->\n<g id=\"edge26\" class=\"edge\">\n<title>24&#45;&gt;26</title>\n<path fill=\"none\" stroke=\"#000000\" d=\"M1049.128,-88.9777C1061.8813,-79.3629 1075.7327,-68.9203 1088.3947,-59.3743\"/>\n<polygon fill=\"#000000\" stroke=\"#000000\" points=\"1090.6421,-62.0632 1096.5202,-53.2485 1086.4281,-56.4737 1090.6421,-62.0632\"/>\n</g>\n<!-- 29 -->\n<g id=\"node30\" class=\"node\">\n<title>29</title>\n<polygon fill=\"#eeab7b\" stroke=\"#000000\" points=\"1267,-365 1093,-365 1093,-297 1267,-297 1267,-365\"/>\n<text text-anchor=\"middle\" x=\"1180\" y=\"-349.8\" font-family=\"Helvetica,sans-Serif\" font-size=\"14.00\" fill=\"#000000\">symmetry error &lt;= 0.016</text>\n<text text-anchor=\"middle\" x=\"1180\" y=\"-334.8\" font-family=\"Helvetica,sans-Serif\" font-size=\"14.00\" fill=\"#000000\">samples = 4</text>\n<text text-anchor=\"middle\" x=\"1180\" y=\"-319.8\" font-family=\"Helvetica,sans-Serif\" font-size=\"14.00\" fill=\"#000000\">value = [3, 1]</text>\n<text text-anchor=\"middle\" x=\"1180\" y=\"-304.8\" font-family=\"Helvetica,sans-Serif\" font-size=\"14.00\" fill=\"#000000\">class = cancer</text>\n</g>\n<!-- 28&#45;&gt;29 -->\n<g id=\"edge29\" class=\"edge\">\n<title>28&#45;&gt;29</title>\n<path fill=\"none\" stroke=\"#000000\" d=\"M1180,-400.9465C1180,-392.776 1180,-383.9318 1180,-375.3697\"/>\n<polygon fill=\"#000000\" stroke=\"#000000\" points=\"1183.5001,-375.13 1180,-365.13 1176.5001,-375.13 1183.5001,-375.13\"/>\n</g>\n<!-- 32 -->\n<g id=\"node33\" class=\"node\">\n<title>32</title>\n<polygon fill=\"#e58139\" stroke=\"#000000\" points=\"1401,-357.5 1285,-357.5 1285,-304.5 1401,-304.5 1401,-357.5\"/>\n<text text-anchor=\"middle\" x=\"1343\" y=\"-342.3\" font-family=\"Helvetica,sans-Serif\" font-size=\"14.00\" fill=\"#000000\">samples = 132</text>\n<text text-anchor=\"middle\" x=\"1343\" y=\"-327.3\" font-family=\"Helvetica,sans-Serif\" font-size=\"14.00\" fill=\"#000000\">value = [132, 0]</text>\n<text text-anchor=\"middle\" x=\"1343\" y=\"-312.3\" font-family=\"Helvetica,sans-Serif\" font-size=\"14.00\" fill=\"#000000\">class = cancer</text>\n</g>\n<!-- 28&#45;&gt;32 -->\n<g id=\"edge32\" class=\"edge\">\n<title>28&#45;&gt;32</title>\n<path fill=\"none\" stroke=\"#000000\" d=\"M1233.3723,-400.9465C1252.5351,-388.72 1274.0625,-374.9847 1292.9343,-362.9437\"/>\n<polygon fill=\"#000000\" stroke=\"#000000\" points=\"1294.8526,-365.8716 1301.4003,-357.5422 1291.0874,-359.9704 1294.8526,-365.8716\"/>\n</g>\n<!-- 30 -->\n<g id=\"node31\" class=\"node\">\n<title>30</title>\n<polygon fill=\"#399de5\" stroke=\"#000000\" points=\"1247,-253.5 1113,-253.5 1113,-200.5 1247,-200.5 1247,-253.5\"/>\n<text text-anchor=\"middle\" x=\"1180\" y=\"-238.3\" font-family=\"Helvetica,sans-Serif\" font-size=\"14.00\" fill=\"#000000\">samples = 1</text>\n<text text-anchor=\"middle\" x=\"1180\" y=\"-223.3\" font-family=\"Helvetica,sans-Serif\" font-size=\"14.00\" fill=\"#000000\">value = [0, 1]</text>\n<text text-anchor=\"middle\" x=\"1180\" y=\"-208.3\" font-family=\"Helvetica,sans-Serif\" font-size=\"14.00\" fill=\"#000000\">class = not cancer</text>\n</g>\n<!-- 29&#45;&gt;30 -->\n<g id=\"edge30\" class=\"edge\">\n<title>29&#45;&gt;30</title>\n<path fill=\"none\" stroke=\"#000000\" d=\"M1180,-296.9465C1180,-286.2621 1180,-274.4254 1180,-263.5742\"/>\n<polygon fill=\"#000000\" stroke=\"#000000\" points=\"1183.5001,-263.5421 1180,-253.5422 1176.5001,-263.5422 1183.5001,-263.5421\"/>\n</g>\n<!-- 31 -->\n<g id=\"node32\" class=\"node\">\n<title>31</title>\n<polygon fill=\"#e58139\" stroke=\"#000000\" points=\"1375,-253.5 1265,-253.5 1265,-200.5 1375,-200.5 1375,-253.5\"/>\n<text text-anchor=\"middle\" x=\"1320\" y=\"-238.3\" font-family=\"Helvetica,sans-Serif\" font-size=\"14.00\" fill=\"#000000\">samples = 3</text>\n<text text-anchor=\"middle\" x=\"1320\" y=\"-223.3\" font-family=\"Helvetica,sans-Serif\" font-size=\"14.00\" fill=\"#000000\">value = [3, 0]</text>\n<text text-anchor=\"middle\" x=\"1320\" y=\"-208.3\" font-family=\"Helvetica,sans-Serif\" font-size=\"14.00\" fill=\"#000000\">class = cancer</text>\n</g>\n<!-- 29&#45;&gt;31 -->\n<g id=\"edge31\" class=\"edge\">\n<title>29&#45;&gt;31</title>\n<path fill=\"none\" stroke=\"#000000\" d=\"M1225.8412,-296.9465C1242.0035,-284.9403 1260.1242,-271.4791 1276.1205,-259.5962\"/>\n<polygon fill=\"#000000\" stroke=\"#000000\" points=\"1278.3299,-262.3151 1284.2702,-253.5422 1274.1556,-256.6958 1278.3299,-262.3151\"/>\n</g>\n</g>\n</svg>\n"
          },
          "metadata": {}
        }
      ]
    }
  ]
}