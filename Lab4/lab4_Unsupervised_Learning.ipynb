{
  "nbformat": 4,
  "nbformat_minor": 0,
  "metadata": {
    "colab": {
      "provenance": []
    },
    "kernelspec": {
      "name": "python3",
      "display_name": "Python 3"
    },
    "language_info": {
      "name": "python"
    }
  },
  "cells": [
    {
      "cell_type": "markdown",
      "source": [
        "# Unsupervised learning\n",
        "\n",
        "Table of contents\n",
        "\n",
        "✔ Chapter 1.  k-means\n",
        "\n",
        "Chapter 2. PCA"
      ],
      "metadata": {
        "id": "Yp4F2jaGuH0d"
      }
    },
    {
      "cell_type": "markdown",
      "source": [
        "To install further python libraries, type\n",
        "\n",
        "`!pip install --target=$my_path [LIBRARY_NAME]`"
      ],
      "metadata": {
        "id": "_0I1zKtuuRSC"
      }
    },
    {
      "cell_type": "markdown",
      "source": [
        "# Chapter 1-1. Implement from scratch\n",
        "\n",
        "\n",
        "\n",
        "*   Reference: Kaggle\n",
        "\n"
      ],
      "metadata": {
        "id": "OmKKTdRDuTpA"
      }
    },
    {
      "cell_type": "markdown",
      "source": [
        "1. Initialize the centroids by selecting k centroids randomly from the training data"
      ],
      "metadata": {
        "id": "IHVzpSSkvZun"
      }
    },
    {
      "cell_type": "code",
      "execution_count": null,
      "metadata": {
        "id": "qBptvA9gt6nS"
      },
      "outputs": [],
      "source": [
        "import numpy as np\n",
        "\n",
        "def initialize_random_centroids(self, X):\n",
        "    centroids = np.zeros((self.K, self.num_features)) # row , column full with zero \n",
        "    for k in range(self.K): # iterations of \n",
        "        centroid = X[np.random.choice(range(self.num_examples))] # random centroids\n",
        "        centroids[k] = centroid\n",
        "    return centroids # return random centroids\n"
      ]
    },
    {
      "cell_type": "markdown",
      "source": [
        "2. Assign the cluster"
      ],
      "metadata": {
        "id": "M__Wc89Ovy7m"
      }
    },
    {
      "cell_type": "code",
      "source": [
        "def create_cluster(self, X, centroids):\n",
        "    clusters = [[] for _ in range(self.K)]\n",
        "    for point_idx, point in enumerate(X):\n",
        "        closest_centroid = np.argmin(\n",
        "            np.sqrt(np.sum((point-centroids)**2, axis=1))\n",
        "        ) # closest centroid using euclidean distance equation(calculate distance of every point from centroid)\n",
        "        clusters[closest_centroid].append(point_idx)\n",
        "    return clusters"
      ],
      "metadata": {
        "id": "BvphFN-XzMx8"
      },
      "execution_count": null,
      "outputs": []
    },
    {
      "cell_type": "markdown",
      "source": [
        "3. update the centroids"
      ],
      "metadata": {
        "id": "e1e8n7lka4gE"
      }
    },
    {
      "cell_type": "code",
      "source": [
        "def calculate_new_centroids(self, cluster, X):\n",
        "    centroids = np.zeros((self.K, self.num_features)) # row , column full with zero\n",
        "    for idx, cluster in enumerate(cluster):\n",
        "        new_centroid = np.mean(X[cluster], axis=0) # find the value for new centroids\n",
        "        centroids[idx] = new_centroid\n",
        "    return centroids"
      ],
      "metadata": {
        "id": "QiYqa6QgwLYP"
      },
      "execution_count": null,
      "outputs": []
    },
    {
      "cell_type": "markdown",
      "source": [
        "4. predict the cluster using new points"
      ],
      "metadata": {
        "id": "roMvtJvcwiAV"
      }
    },
    {
      "cell_type": "code",
      "source": [
        "def predict_cluster(self, clusters, X):\n",
        "    y_pred = np.zeros(self.num_examples) # row1 fillup with zero\n",
        "    for cluster_idx, cluster in enumerate(clusters):\n",
        "        for sample_idx in cluster:\n",
        "            y_pred[sample_idx] = cluster_idx\n",
        "    return y_pred"
      ],
      "metadata": {
        "id": "mRF0B6AvbNwD"
      },
      "execution_count": null,
      "outputs": []
    },
    {
      "cell_type": "markdown",
      "source": [
        "Then, let's make fit function"
      ],
      "metadata": {
        "id": "cXlCCwygbSdI"
      }
    },
    {
      "cell_type": "code",
      "source": [
        "def fit(self, X):\n",
        "    # 1. initialize random centroids\n",
        "    centroids = self.initialize_random_centroids(X) \n",
        "    for _ in range(self.max_iterations):\n",
        "        # 2. assign cluster\n",
        "        clusters = self.create_cluster(X, centroids) \n",
        "        previous_centroids = centroids\n",
        "\n",
        "\n",
        "        # 3. update centroids\n",
        "        centroids = self.calculate_new_centroids(clusters, X) # calculate new centroids\n",
        "        diff = centroids - previous_centroids # calculate difference\n",
        "        if not diff.any():\n",
        "            break\n",
        "\n",
        "    # 4. Predict the cluster using (again) X\n",
        "    y_pred = self.predict_cluster(clusters, X) # predict function\n",
        "    if self.plot_figure: # if true\n",
        "        self.plot_fig(X, y_pred) # plot function \n",
        "    return y_pred"
      ],
      "metadata": {
        "id": "fiB_J9EobWGD"
      },
      "execution_count": null,
      "outputs": []
    },
    {
      "cell_type": "markdown",
      "source": [
        "The following is the k-means class"
      ],
      "metadata": {
        "id": "s8mB1_USb5VT"
      }
    },
    {
      "cell_type": "code",
      "source": [
        "import numpy as np # linear algebra\n",
        "import os\n",
        "import matplotlib.pyplot as plt\n",
        "import plotly.express as px\n",
        "from sklearn.datasets import make_blobs\n",
        "from sklearn.preprocessing import StandardScaler\n",
        "import seaborn as sns\n",
        "\n",
        "class KMeansClustering:\n",
        "    def __init__(self, X, num_clusters):\n",
        "        self.K = num_clusters # cluster number\n",
        "        self.max_iterations = 100 # max iteration. don't want to run inf time\n",
        "        self.num_examples, self.num_features = X.shape # num of examples, num of features\n",
        "        self.plot_figure = True # plot figure\n",
        "        \n",
        "    # randomly initialize centroids\n",
        "    def initialize_random_centroids(self, X):\n",
        "        centroids = np.zeros((self.K, self.num_features)) # row , column full with zero \n",
        "        for k in range(self.K): # iterations of \n",
        "            centroid = X[np.random.choice(range(self.num_examples))] # random centroids\n",
        "            centroids[k] = centroid\n",
        "        return centroids # return random centroids\n",
        "    \n",
        "    # create cluster Function\n",
        "    def create_cluster(self, X, centroids):\n",
        "        clusters = [[] for _ in range(self.K)]\n",
        "        for point_idx, point in enumerate(X):\n",
        "            closest_centroid = np.argmin(\n",
        "                np.sqrt(np.sum((point-centroids)**2, axis=1))\n",
        "            ) # closest centroid using euclidean distance equation(calculate distance of every point from centroid)\n",
        "            clusters[closest_centroid].append(point_idx)\n",
        "        return clusters \n",
        "    \n",
        "    # new centroids\n",
        "    def calculate_new_centroids(self, cluster, X):\n",
        "        centroids = np.zeros((self.K, self.num_features)) # row , column full with zero\n",
        "        for idx, cluster in enumerate(cluster):\n",
        "            new_centroid = np.mean(X[cluster], axis=0) # find the value for new centroids\n",
        "            centroids[idx] = new_centroid\n",
        "        return centroids\n",
        "    \n",
        "    # prediction\n",
        "    def predict_cluster(self, clusters, X):\n",
        "        y_pred = np.zeros(self.num_examples) # row1 fillup with zero\n",
        "        for cluster_idx, cluster in enumerate(clusters):\n",
        "            for sample_idx in cluster:\n",
        "                y_pred[sample_idx] = cluster_idx\n",
        "        return y_pred\n",
        "    \n",
        "    # plotinng scatter plot\n",
        "    def plot_fig(self, X, y):\n",
        "        fig = px.scatter(X[:, 0], X[:, 1], color=y)\n",
        "        fig.show() # visualize\n",
        "        \n",
        "    # fit data\n",
        "    def fit(self, X):\n",
        "        centroids = self.initialize_random_centroids(X) # initialize random centroids\n",
        "        for _ in range(self.max_iterations):\n",
        "            clusters = self.create_cluster(X, centroids) # create cluster\n",
        "            previous_centroids = centroids\n",
        "            centroids = self.calculate_new_centroids(clusters, X) # calculate new centroids\n",
        "            diff = centroids - previous_centroids # calculate difference\n",
        "            if not diff.any(): # no more updates needed then stop the loop\n",
        "                break\n",
        "        y_pred = self.predict_cluster(clusters, X) # predict function\n",
        "        \n",
        "        fig=plt.figure(figsize=(6,4))\n",
        "        ax=fig.add_subplot(1,1,1)\n",
        "        colors=plt.cm.Spectral(np.linspace(0,1,4))\n",
        "\n",
        "        for k, col in zip(range(4),colors):\n",
        "          points=(y_pred==k)\n",
        "          ax.plot(X[points,0],X[points,1],'w',markerfacecolor=col,marker='.')\n",
        "        plt.show()\n",
        "        return y_pred\n",
        "            \n",
        "if __name__ == \"__main__\":\n",
        "    np.random.seed(10)\n",
        "    num_clusters = 4 # num of cluster\n",
        "    X, true_labels = make_blobs(n_samples=1000, centers=num_clusters, cluster_std=0.9, random_state=42)\n",
        "    X = StandardScaler().fit_transform(X)\n",
        "    plt.scatter(X[:,0],X[:,1],marker=\".\")\n",
        "    Kmeans = KMeansClustering(X, num_clusters)\n",
        "    y_pred = Kmeans.fit(X)\n",
        "\n"
      ],
      "metadata": {
        "colab": {
          "base_uri": "https://localhost:8080/",
          "height": 513
        },
        "id": "q_E_lpIbbzI-",
        "outputId": "5eedcab5-8090-4c5d-9c56-d32f6e8e6cc9"
      },
      "execution_count": null,
      "outputs": [
        {
          "output_type": "display_data",
          "data": {
            "text/plain": [
              "<Figure size 432x288 with 1 Axes>"
            ],
            "image/png": "[encoded data removed]"
          },
          "metadata": {
            "needs_background": "light"
          }
        },
        {
          "output_type": "display_data",
          "data": {
            "text/plain": [
              "<Figure size 432x288 with 1 Axes>"
            ],
            "image/png": "[encoded data removed]"
          },
          "metadata": {
            "needs_background": "light"
          }
        }
      ]
    },
    {
      "cell_type": "markdown",
      "source": [
        "Try to improve the way to select centroids"
      ],
      "metadata": {
        "id": "RklJT2w5eCQs"
      }
    },
    {
      "cell_type": "code",
      "source": [
        "import numpy as np\n",
        "import matplotlib.pyplot as plt\n",
        "from sklearn.preprocessing import StandardScaler\n",
        "from numpy.random import uniform\n",
        "from sklearn.datasets import make_blobs\n",
        "import seaborn as sns\n",
        "import random\n",
        "def euclidean(point, data):\n",
        "    \"\"\"\n",
        "    Euclidean distance between point & data.\n",
        "    Point has dimensions (m,), data has dimensions (n,m), and output will be of size (n,).\n",
        "    \"\"\"\n",
        "    return np.sqrt(np.sum((point - data)**2, axis=1))\n",
        "\n",
        "class KMeans:\n",
        "    def __init__(self, n_clusters=8, max_iter=300):\n",
        "        self.n_clusters = n_clusters\n",
        "        self.max_iter = max_iter\n",
        "\n",
        "    def fit(self, X_train):\n",
        "        # Initialize only the first centroid\n",
        "        # then the rest are initialized with probabilities proportional to their distances to the first centroid\n",
        "        self.centroids = [random.choice(X_train)]\n",
        "        for _ in range(self.n_clusters-1):\n",
        "            # Calculate distances from points to the centroids\n",
        "            dists = np.sum([euclidean(centroid, X_train) for centroid in self.centroids], axis=0)\n",
        "            # Normalize the distances\n",
        "            dists /= np.sum(dists)\n",
        "            # Choose remaining points based on their distances (i.e., p=dists)\n",
        "            new_centroid_idx, = np.random.choice(range(len(X_train)), size=1, p=dists)\n",
        "            self.centroids += [X_train[new_centroid_idx]]\n",
        "        \n",
        "        # Iterate, adjusting centroids until converged or until passed max_iter\n",
        "        # np.not_equal(self.centroids, prev_centroids): Check the convergence\n",
        "        iteration = 0\n",
        "        prev_centroids = None\n",
        "        # .any(): returns True if at least one True exists\n",
        "        while np.not_equal(self.centroids, prev_centroids).any() and iteration < self.max_iter:\n",
        "            # Sort each datapoint, assigning to nearest centroid\n",
        "            sorted_points = [[] for _ in range(self.n_clusters)]\n",
        "            for x in X_train:\n",
        "                dists = euclidean(x, self.centroids)\n",
        "                centroid_idx = np.argmin(dists)\n",
        "                sorted_points[centroid_idx].append(x)\n",
        "\n",
        "            prev_centroids = self.centroids\n",
        "            # Update the centroids using mean of the points belonging to them\n",
        "            self.centroids = [np.mean(cluster, axis=0) for cluster in sorted_points]\n",
        "            for i, centroid in enumerate(self.centroids):\n",
        "                if np.isnan(centroid).any():  # Catch any np.nans, resulting from a centroid having no points, then just keep the previous centroid\n",
        "                    self.centroids[i] = prev_centroids[i]\n",
        "            iteration += 1\n",
        "\n",
        "    def evaluate(self, X):\n",
        "        centroids = []\n",
        "        centroid_idxs = []\n",
        "        for x in X:\n",
        "            dists = euclidean(x, self.centroids)\n",
        "            # pick the nearest centroid\n",
        "            centroid_idx = np.argmin(dists)\n",
        "            centroids.append(self.centroids[centroid_idx])\n",
        "            centroid_idxs.append(centroid_idx)\n",
        "        return centroids, centroid_idxs\n",
        "\n",
        "# Create a dataset of 2D distributions\n",
        "centers = 4\n",
        "X_train, true_labels = make_blobs(n_samples=1000, centers=centers, cluster_std=0.9, random_state=42)\n",
        "X_train = StandardScaler().fit_transform(X_train)\n",
        "# Fit k-means to dataset\n",
        "kmeans = KMeans(n_clusters=centers)\n",
        "kmeans.fit(X_train)\n",
        "# Visualize results\n",
        "class_centers, classification = kmeans.evaluate(X_train)\n",
        "sns.scatterplot(x=[X[0] for X in X_train],\n",
        "                y=[X[1] for X in X_train],\n",
        "                hue=true_labels,\n",
        "                style=classification,\n",
        "                palette=\"deep\",\n",
        "                legend=None\n",
        "                )\n",
        "plt.plot([x for x, _ in kmeans.centroids],\n",
        "         [y for _, y in kmeans.centroids],\n",
        "         'k+',\n",
        "         markersize=10,\n",
        "         )\n",
        "plt.show()"
      ],
      "metadata": {
        "colab": {
          "base_uri": "https://localhost:8080/",
          "height": 265
        },
        "id": "_ik8VcJrfglz",
        "outputId": "cf1fdc08-4db9-463c-8273-7918db8c9dd7"
      },
      "execution_count": null,
      "outputs": [
        {
          "output_type": "display_data",
          "data": {
            "text/plain": [
              "<Figure size 432x288 with 1 Axes>"
            ],
            "image/png": "[encoded data removed]"
          },
          "metadata": {
            "needs_background": "light"
          }
        }
      ]
    },
    {
      "cell_type": "markdown",
      "source": [
        "# Chapter 1-2. Use scikit-learn library\n",
        "\n",
        "\n",
        "\n",
        "\n"
      ],
      "metadata": {
        "id": "e4nAn0zn-t2o"
      }
    },
    {
      "cell_type": "code",
      "source": [
        "from sklearn.cluster import KMeans\n"
      ],
      "metadata": {
        "id": "WI2Nw-g5-3tK"
      },
      "execution_count": null,
      "outputs": []
    },
    {
      "cell_type": "code",
      "source": [
        "k_means=KMeans(n_clusters=4,n_init=10)\n",
        "k_means.fit(X)"
      ],
      "metadata": {
        "colab": {
          "base_uri": "https://localhost:8080/"
        },
        "id": "3c2ozkxG-_MZ",
        "outputId": "39a0856b-021c-4caa-e8fc-b0d9e763f3e6"
      },
      "execution_count": null,
      "outputs": [
        {
          "output_type": "execute_result",
          "data": {
            "text/plain": [
              "KMeans(n_clusters=4)"
            ]
          },
          "metadata": {},
          "execution_count": 5
        }
      ]
    },
    {
      "cell_type": "code",
      "source": [
        "print('predicted lable for each sample: ',k_means.labels_)\n",
        "print('centroids: ',k_means.cluster_centers_)"
      ],
      "metadata": {
        "colab": {
          "base_uri": "https://localhost:8080/"
        },
        "id": "JCIQAHNFA4Hg",
        "outputId": "894c842c-cde6-44cc-bdf6-a1f74b0e5f1e"
      },
      "execution_count": null,
      "outputs": [
        {
          "output_type": "stream",
          "name": "stdout",
          "text": [
            "predicted lable for each sample:  [1 0 0 2 2 0 2 0 0 2 2 1 3 0 0 0 3 3 3 2 2 1 1 1 2 2 3 3 0 2 0 0 0 3 3 1 0\n",
            " 2 1 1 2 0 2 1 2 1 3 2 1 2 0 3 2 1 3 1 3 3 3 0 0 3 0 1 2 3 0 0 2 3 1 3 2 0\n",
            " 2 1 2 3 2 3 0 3 3 3 2 1 0 0 3 3 3 3 2 2 1 2 1 3 2 0 2 1 1 3 1 2 2 3 0 3 1\n",
            " 0 2 2 2 2 0 1 0 2 3 0 1 2 1 0 2 1 0 2 3 0 2 1 2 1 3 0 2 2 3 3 1 1 1 2 2 3\n",
            " 3 3 3 1 0 0 3 2 3 2 2 1 0 3 2 0 3 3 2 0 1 0 2 3 3 2 3 1 0 1 0 1 2 2 3 0 3\n",
            " 0 2 1 3 0 2 3 2 2 3 1 0 0 0 1 3 0 2 3 2 2 0 3 2 0 0 1 0 0 2 3 0 3 1 2 1 1\n",
            " 0 3 1 3 2 0 0 3 3 0 3 1 0 0 1 0 0 2 0 1 0 2 1 3 2 3 2 2 2 2 1 2 2 0 3 0 0\n",
            " 2 2 2 1 2 1 1 0 2 3 1 2 3 2 0 3 1 2 1 0 2 1 0 1 2 0 3 3 0 3 1 1 3 0 0 0 3\n",
            " 0 0 0 3 0 1 0 1 3 0 1 2 1 1 0 1 1 2 0 1 2 3 1 1 0 0 0 2 1 0 3 0 3 3 0 0 1\n",
            " 1 0 3 1 2 1 2 1 0 0 2 3 2 1 1 3 3 3 3 3 2 3 3 0 2 3 1 2 0 0 2 1 2 1 1 1 0\n",
            " 2 2 2 2 3 2 3 0 2 3 0 2 1 2 2 1 3 1 0 1 0 3 1 3 1 1 0 2 2 2 3 1 3 2 2 1 2\n",
            " 3 3 1 2 3 1 0 1 0 0 3 1 2 3 2 3 3 3 1 0 1 2 0 3 3 1 3 1 0 1 0 0 3 1 1 1 2\n",
            " 3 3 2 2 0 1 1 1 2 3 1 3 0 0 2 3 2 2 3 3 2 2 0 0 2 3 1 2 2 1 1 0 1 3 2 3 1\n",
            " 2 1 0 2 3 2 0 3 2 3 0 3 1 3 1 0 0 1 1 1 3 1 3 2 0 2 2 3 2 2 0 0 3 0 2 1 3\n",
            " 3 3 3 2 2 2 1 2 2 0 2 3 3 2 3 1 2 3 3 2 2 1 0 1 1 3 1 2 3 2 1 1 1 3 3 3 2\n",
            " 2 1 0 3 3 2 3 3 3 0 1 2 2 2 3 2 0 0 0 2 1 1 1 2 3 1 1 1 3 1 2 1 0 0 1 1 1\n",
            " 1 3 0 0 3 0 3 2 2 2 2 3 0 1 0 3 1 3 2 1 3 0 1 0 1 2 3 1 0 2 3 2 1 0 0 1 0\n",
            " 2 0 0 1 3 2 0 3 0 1 2 1 0 3 0 1 3 2 0 1 1 0 0 1 1 2 1 2 3 0 3 2 1 3 1 2 0\n",
            " 3 3 1 3 0 0 1 3 1 1 1 2 1 3 2 0 2 2 2 2 0 2 3 3 1 2 3 2 3 0 0 1 2 1 3 0 2\n",
            " 0 0 1 2 1 0 0 1 1 3 3 1 1 3 0 1 2 3 0 0 1 3 3 1 0 1 3 2 1 2 2 0 3 0 1 2 0\n",
            " 0 1 1 0 0 3 3 0 0 0 2 3 1 1 0 0 1 0 0 0 1 1 0 3 2 0 3 3 3 1 2 0 2 3 0 1 3\n",
            " 3 0 1 2 0 3 2 1 3 0 1 0 0 1 3 1 0 3 3 3 1 0 1 1 2 1 2 3 2 2 1 3 2 3 3 2 1\n",
            " 2 1 0 1 0 3 0 1 1 2 3 2 0 0 1 3 2 0 3 1 2 3 3 1 0 2 2 2 0 0 2 0 1 1 2 0 0\n",
            " 1 0 0 1 2 1 1 0 0 3 1 3 0 1 3 1 0 1 3 1 0 2 2 0 0 0 3 3 3 3 1 1 0 2 2 0 3\n",
            " 0 0 0 0 0 0 3 1 1 2 2 1 1 3 2 3 2 1 3 1 3 1 3 2 0 0 0 1 3 0 2 1 1 1 0 3 2\n",
            " 1 2 3 3 2 0 3 3 1 2 1 1 2 3 3 1 3 0 0 0 2 2 3 3 2 0 3 3 2 3 0 2 2 1 3 2 0\n",
            " 1 2 0 3 1 2 1 0 3 0 0 3 0 1 0 1 3 1 2 2 2 0 1 3 3 3 2 2 2 3 2 0 2 0 3 2 0\n",
            " 1]\n",
            "centroids:  [[-6.75885419 -6.82017677]\n",
            " [-8.86597911  7.40233525]\n",
            " [ 4.65583248  2.02158124]\n",
            " [-2.51418005  9.02726181]]\n"
          ]
        }
      ]
    },
    {
      "cell_type": "code",
      "source": [
        "y_pred=k_means.labels_\n",
        "\n",
        "fig=plt.figure(figsize=(6,4))\n",
        "ax=fig.add_subplot(1,1,1)\n",
        "colors=plt.cm.Spectral(np.linspace(0,1,4))\n",
        "\n",
        "for k, col in zip(range(4),colors):\n",
        "  points=(y_pred==k)\n",
        "  ax.plot(X[points,0],X[points,1],'w',markerfacecolor=col,marker='.')\n",
        "plt.show()"
      ],
      "metadata": {
        "colab": {
          "base_uri": "https://localhost:8080/",
          "height": 265
        },
        "id": "4AFPFr9MBIjK",
        "outputId": "da2860d2-bf72-4e19-ea20-45240a778786"
      },
      "execution_count": null,
      "outputs": [
        {
          "output_type": "display_data",
          "data": {
            "text/plain": [
              "<Figure size 432x288 with 1 Axes>"
            ],
            "image/png": "[encoded data removed]"
          },
          "metadata": {
            "needs_background": "light"
          }
        }
      ]
    },
    {
      "cell_type": "markdown",
      "source": [
        "Use elbow method (i.e., Sum of squared distances of samples to their closest centroid) to find the optimal k"
      ],
      "metadata": {
        "id": "l_lPe8k7eGnp"
      }
    },
    {
      "cell_type": "code",
      "source": [
        "distortions=[]\n",
        "for k in range(1,10):\n",
        "    k_means = KMeans(n_clusters=k)\n",
        "    k_means.fit(X)\n",
        "    distortions.append(k_means.inertia_)"
      ],
      "metadata": {
        "id": "1JMFabvOeYIa"
      },
      "execution_count": null,
      "outputs": []
    },
    {
      "cell_type": "code",
      "source": [
        "plt.figure(figsize=(16,8))\n",
        "plt.plot(range(1,10), distortions, 'bx-')\n",
        "plt.xlabel('k')\n",
        "plt.ylabel('Distortion')\n",
        "plt.title('The Elbow Method showing the optimal k')\n",
        "plt.show()"
      ],
      "metadata": {
        "colab": {
          "base_uri": "https://localhost:8080/",
          "height": 513
        },
        "id": "6X1au_JkemG8",
        "outputId": "4cac9a82-5754-4677-964d-d293a3dafdd9"
      },
      "execution_count": null,
      "outputs": [
        {
          "output_type": "display_data",
          "data": {
            "text/plain": [
              "<Figure size 1152x576 with 1 Axes>"
            ],
            "image/png": "[encoded data removed]"
          },
          "metadata": {
            "needs_background": "light"
          }
        }
      ]
    },
    {
      "cell_type": "markdown",
      "source": [
        "Thus, the elbow is 4 in this case."
      ],
      "metadata": {
        "id": "BPtWhzB2fEg7"
      }
    },
    {
      "cell_type": "markdown",
      "source": [
        "Table of contents\n",
        "\n",
        "Chapter 1.  k-means\n",
        "\n",
        "✔ Chapter 2. PCA"
      ],
      "metadata": {
        "id": "Q14c3tD6fnON"
      }
    },
    {
      "cell_type": "markdown",
      "source": [
        "# Chapter 2-1. Implement from scratch\n",
        "\n",
        "\n",
        "\n",
        "*   data: sklearn iris dataset"
      ],
      "metadata": {
        "id": "OEF2WfYgCCuM"
      }
    },
    {
      "cell_type": "code",
      "source": [
        "from sklearn.datasets import load_iris\n",
        "\n",
        "iris = load_iris()\n",
        "X = iris['data']\n",
        "y = iris['target']\n",
        "\n",
        "n_samples, n_features = X.shape\n",
        "\n",
        "print('Number of samples:', n_samples)\n",
        "print('Number of features:', n_features)"
      ],
      "metadata": {
        "colab": {
          "base_uri": "https://localhost:8080/"
        },
        "id": "za59bZKUCP7P",
        "outputId": "74296548-db99-493e-b0d1-821987250be2"
      },
      "execution_count": null,
      "outputs": [
        {
          "output_type": "stream",
          "name": "stdout",
          "text": [
            "Number of samples: 150\n",
            "Number of features: 4\n"
          ]
        }
      ]
    },
    {
      "cell_type": "markdown",
      "source": [
        "1. Normalize the data"
      ],
      "metadata": {
        "id": "2DTqE061Cf8k"
      }
    },
    {
      "cell_type": "code",
      "source": [
        "def mean(x): # np.mean(X, axis = 0)  \n",
        "    return sum(x)/len(x)  \n",
        "\n",
        "def std(x): # np.std(X, axis = 0)\n",
        "    return (sum((i - mean(x))**2 for i in x)/len(x))**0.5\n",
        "\n",
        "def Standardize_data(X):\n",
        "    return (X - mean(X))/std(X)\n",
        "\n",
        "X_std = Standardize_data(X)"
      ],
      "metadata": {
        "id": "eEQyBNXrCWZj"
      },
      "execution_count": null,
      "outputs": []
    },
    {
      "cell_type": "markdown",
      "source": [
        "2. Compute the covariance matrix"
      ],
      "metadata": {
        "id": "SgxG1FHvCmDU"
      }
    },
    {
      "cell_type": "code",
      "source": [
        "def covariance(x): \n",
        "    return (x.T @ x)/(x.shape[0]-1)\n",
        "\n",
        "cov_mat = covariance(X_std) # np.cov(X_std.T)"
      ],
      "metadata": {
        "id": "mhUe3i_mCoFg"
      },
      "execution_count": null,
      "outputs": []
    },
    {
      "cell_type": "markdown",
      "source": [
        "3. Find the eigen vectors and eigen values of the covariance matrix"
      ],
      "metadata": {
        "id": "ZacbzfE5CqFc"
      }
    },
    {
      "cell_type": "code",
      "source": [
        "from numpy.linalg import eig\n",
        "\n",
        "# Eigendecomposition of covariance matrix\n",
        "eig_vals, eig_vecs = eig(cov_mat) \n",
        "\n",
        "# Adjusting the eigenvectors (loadings) that are largest in absolute value to be positive\n",
        "max_abs_idx = np.argmax(np.abs(eig_vecs), axis=0)\n",
        "signs = np.sign(eig_vecs[max_abs_idx, range(eig_vecs.shape[0])])\n",
        "eig_vecs = eig_vecs*signs[np.newaxis,:]\n",
        "eig_vecs = eig_vecs.T\n",
        "\n",
        "print('Eigenvalues \\n', eig_vals)\n",
        "print('Eigenvectors \\n', eig_vecs)"
      ],
      "metadata": {
        "id": "1T5ZuiwqCzoj"
      },
      "execution_count": null,
      "outputs": []
    },
    {
      "cell_type": "markdown",
      "source": [
        "4. Sort eigen values and vectors in descending order (to pick top K principal components"
      ],
      "metadata": {
        "id": "dVAIXujsCzMB"
      }
    },
    {
      "cell_type": "code",
      "source": [
        "# We first make a list of (eigenvalue, eigenvector) tuples\n",
        "eig_pairs = [(np.abs(eig_vals[i]), eig_vecs[i,:]) for i in range(len(eig_vals))]\n",
        "\n",
        "# Then, we sort the tuples from the highest to the lowest based on eigenvalues magnitude\n",
        "eig_pairs.sort(key=lambda x: x[0], reverse=True)\n",
        "\n",
        "# For further usage\n",
        "eig_vals_sorted = np.array([x[0] for x in eig_pairs])\n",
        "eig_vecs_sorted = np.array([x[1] for x in eig_pairs])\n",
        "\n",
        "print(eig_pairs)"
      ],
      "metadata": {
        "id": "oyGhqjKGDHPb"
      },
      "execution_count": null,
      "outputs": []
    },
    {
      "cell_type": "markdown",
      "source": [
        "5. Choose k principal components (k < number of features)"
      ],
      "metadata": {
        "id": "lh6QQ978DcYr"
      }
    },
    {
      "cell_type": "code",
      "source": [
        "k = 2\n",
        "W = eig_vecs_sorted[:k, :]"
      ],
      "metadata": {
        "id": "Fh9dHNgXEcaS"
      },
      "execution_count": null,
      "outputs": []
    },
    {
      "cell_type": "markdown",
      "source": [
        "6. Compute variance according to k"
      ],
      "metadata": {
        "id": "_2D9m95bEmLA"
      }
    },
    {
      "cell_type": "code",
      "source": [
        "eig_vals_total = sum(eig_vals)\n",
        "explained_variance = [(i / eig_vals_total)*100 for i in eig_vals_sorted]\n",
        "explained_variance = np.round(explained_variance, 2)\n",
        "\n",
        "print('Explained variance: {}'.format(explained_variance))\n",
        "\n",
        "plt.xticks(np.arange(1,n_features+1))\n",
        "plt.xlabel('Number of components')\n",
        "plt.ylabel('Cumulative explained variance');\n",
        "plt.show()"
      ],
      "metadata": {
        "id": "NRxJTuBWEmo7"
      },
      "execution_count": null,
      "outputs": []
    },
    {
      "cell_type": "markdown",
      "source": [
        "7. Project the data"
      ],
      "metadata": {
        "id": "Oq__OovcEvWM"
      }
    },
    {
      "cell_type": "code",
      "source": [
        "X_proj = X_std.dot(W.T)\n",
        "\n",
        "print(X_proj.shape)\n",
        "\n",
        "plt.scatter(X_proj[:, 0], X_proj[:, 1], c = y)\n",
        "plt.xlabel('PC1'); plt.xticks([])\n",
        "plt.ylabel('PC2'); plt.yticks([])\n",
        "plt.title('2 components')\n",
        "plt.show()\n"
      ],
      "metadata": {
        "id": "brt1VVqrEyHQ"
      },
      "execution_count": null,
      "outputs": []
    },
    {
      "cell_type": "markdown",
      "source": [
        "Put all together in class PCA"
      ],
      "metadata": {
        "id": "L_qvBv0UE3TR"
      }
    },
    {
      "cell_type": "code",
      "source": [
        "import numpy as np\n",
        "class PCA:\n",
        "    \n",
        "    def __init__(self, n_components):\n",
        "        self.n_components = n_components   \n",
        "        \n",
        "    def fit(self, X):\n",
        "        # Standardize data \n",
        "        X = X.copy()\n",
        "        self.mean = np.mean(X, axis = 0)\n",
        "        self.scale = np.std(X, axis = 0)\n",
        "        X_std = (X - self.mean) / self.scale\n",
        "        \n",
        "        # compute covariance matrix       \n",
        "        cov_mat = np.cov(X_std.T)\n",
        "        # Eigendecomposition of covariance matrix     \n",
        "        eig_vals, eig_vecs = np.linalg.eig(cov_mat) \n",
        "        \n",
        "        # Adjusting the eigenvectors that are largest in absolute value to be positive    \n",
        "        max_abs_idx = np.argmax(np.abs(eig_vecs), axis=0)\n",
        "        signs = np.sign(eig_vecs[max_abs_idx, range(eig_vecs.shape[0])])\n",
        "        eig_vecs = eig_vecs*signs[np.newaxis,:]\n",
        "        eig_vecs = eig_vecs.T\n",
        "       \n",
        "        eig_pairs = [(np.abs(eig_vals[i]), eig_vecs[i,:]) for i in range(len(eig_vals))]\n",
        "        eig_pairs.sort(key=lambda x: x[0], reverse=True)\n",
        "        eig_vals_sorted = np.array([x[0] for x in eig_pairs])\n",
        "        eig_vecs_sorted = np.array([x[1] for x in eig_pairs])\n",
        "        \n",
        "        self.components = eig_vecs_sorted[:self.n_components,:]\n",
        "        \n",
        "        # Explained variance ratio\n",
        "        self.explained_variance_ratio = [i/np.sum(eig_vals) for i in eig_vals_sorted[:self.n_components]]\n",
        "\n",
        "        return self\n",
        "\n",
        "    def transform(self, X):\n",
        "        X = X.copy()\n",
        "        X_std = (X - self.mean) / self.scale\n",
        "        X_proj = X_std.dot(self.components.T)\n",
        "        \n",
        "        return X_proj\n",
        "# ---------------------------------------------------------\n",
        "my_pca = PCA(n_components = 2).fit(X)\n",
        "\n",
        "print('Components:\\n', my_pca.components)\n",
        "print('Explained variance ratio from scratch:\\n', my_pca.explained_variance_ratio)\n",
        "X_proj = my_pca.transform(X)\n",
        "print('Transformed data shape from scratch:', X_proj.shape)"
      ],
      "metadata": {
        "colab": {
          "base_uri": "https://localhost:8080/"
        },
        "id": "tKCTeTNnE5hT",
        "outputId": "0e8b14e8-e4b7-425f-803c-41959da8a7e2"
      },
      "execution_count": null,
      "outputs": [
        {
          "output_type": "stream",
          "name": "stdout",
          "text": [
            "Components:\n",
            " [[ 0.52106591 -0.26934744  0.5804131   0.56485654]\n",
            " [ 0.37741762  0.92329566  0.02449161  0.06694199]]\n",
            "Explained variance ratio from scratch:\n",
            " [0.7296244541329989, 0.22850761786701754]\n",
            "Transformed data shape from scratch: (150, 2)\n"
          ]
        }
      ]
    },
    {
      "cell_type": "code",
      "source": [
        "plt.scatter(X_proj[:, 0], X_proj[:, 1], c = y)\n",
        "plt.xlabel('PC1'); plt.xticks([])\n",
        "plt.ylabel('PC2'); plt.yticks([])\n",
        "plt.show()"
      ],
      "metadata": {
        "colab": {
          "base_uri": "https://localhost:8080/",
          "height": 262
        },
        "id": "9HnuUHvjFC6D",
        "outputId": "fed6f214-2d13-4505-a3b7-0238d68b5541"
      },
      "execution_count": null,
      "outputs": [
        {
          "output_type": "display_data",
          "data": {
            "text/plain": [
              "<Figure size 432x288 with 1 Axes>"
            ],
            "image/png": "[encoded data removed]"
          },
          "metadata": {}
        }
      ]
    },
    {
      "cell_type": "markdown",
      "source": [
        "# Chapter 2-2. Use scikit-learn library\n"
      ],
      "metadata": {
        "id": "pHTy8kl7FHiB"
      }
    },
    {
      "cell_type": "code",
      "source": [
        "from sklearn.preprocessing import StandardScaler\n",
        "import matplotlib.pyplot as plt\n",
        "X_std = StandardScaler().fit_transform(X)\n",
        "\n",
        "from sklearn.decomposition import PCA\n",
        "pca = PCA(n_components = 2).fit(X_std)\n",
        "\n",
        "print('Components:\\n', pca.components_)\n",
        "print('Explained variance ratio:\\n', pca.explained_variance_ratio_)\n",
        "\n",
        "X_pca = pca.transform(X_std) # Apply dimensionality reduction to X.\n",
        "print('Transformed data shape:', X_pca.shape)\n",
        "\n",
        "plt.scatter(X_pca[:, 0], X_pca[:, 1], c = y)\n",
        "plt.xlabel('PC1'); plt.xticks([])\n",
        "plt.ylabel('PC2'); plt.yticks([])\n",
        "plt.show()"
      ],
      "metadata": {
        "colab": {
          "base_uri": "https://localhost:8080/",
          "height": 369
        },
        "id": "geaGLIuZFO_H",
        "outputId": "d6c6393c-c4b2-4f18-bc76-4600b9e6736b"
      },
      "execution_count": null,
      "outputs": [
        {
          "output_type": "stream",
          "name": "stdout",
          "text": [
            "Components:\n",
            " [[ 0.52106591 -0.26934744  0.5804131   0.56485654]\n",
            " [ 0.37741762  0.92329566  0.02449161  0.06694199]]\n",
            "Explained variance ratio:\n",
            " [0.72962445 0.22850762]\n",
            "Transformed data shape: (150, 2)\n"
          ]
        },
        {
          "output_type": "display_data",
          "data": {
            "text/plain": [
              "<Figure size 432x288 with 1 Axes>"
            ],
            "image/png": "[encoded data removed]"
          },
          "metadata": {}
        }
      ]
    }
  ]
}