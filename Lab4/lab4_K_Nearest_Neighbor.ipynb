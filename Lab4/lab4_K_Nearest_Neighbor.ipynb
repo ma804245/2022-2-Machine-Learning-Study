{
  "nbformat": 4,
  "nbformat_minor": 0,
  "metadata": {
    "colab": {
      "provenance": []
    },
    "kernelspec": {
      "name": "python3",
      "display_name": "Python 3"
    },
    "language_info": {
      "name": "python"
    }
  },
  "cells": [
    {
      "cell_type": "markdown",
      "source": [
        "# K-Nearest Neighbors\n",
        "\n",
        "Table of contents\n",
        "\n",
        "✔ Chapter 1.  k-NN"
      ],
      "metadata": {
        "id": "Pd3PefAUXI-F"
      }
    },
    {
      "cell_type": "markdown",
      "source": [
        "To install further python libraries, type\n",
        "\n",
        "`!pip install --target=$my_path [LIBRARY_NAME]`"
      ],
      "metadata": {
        "id": "Pvi3davpXPfw"
      }
    },
    {
      "cell_type": "markdown",
      "source": [
        "# Chapter 1-1. Implement from scratch\n"
      ],
      "metadata": {
        "id": "xHKCiKkgXUWA"
      }
    },
    {
      "cell_type": "markdown",
      "source": [
        "load the data\n",
        "\n",
        "\n",
        "*   sklearn iris dataset\n",
        "\n"
      ],
      "metadata": {
        "id": "0piMUvSJXD3r"
      }
    },
    {
      "cell_type": "code",
      "execution_count": null,
      "metadata": {
        "id": "l2kzcmIRQgGu"
      },
      "outputs": [],
      "source": [
        "from sklearn import datasets\n",
        "from sklearn.model_selection import train_test_split\n",
        "from sklearn.preprocessing import StandardScaler\n",
        "# Unpack the iris dataset, from UCI Machine Learning Repository\n",
        "iris = datasets.load_iris()\n",
        "X = iris['data']\n",
        "y = iris['target']\n",
        "# Preprocess data\n",
        "X = StandardScaler().fit_transform(X)\n",
        "# Split data into train & test sets\n",
        "X_train, X_test, y_train, y_test = train_test_split(X, y)"
      ]
    },
    {
      "cell_type": "markdown",
      "source": [
        "1. Training does nothing. What we need is just training set"
      ],
      "metadata": {
        "id": "DTOP_TwzYXxs"
      }
    },
    {
      "cell_type": "code",
      "source": [
        "def fit(self, X_train, y_train):\n",
        "        self.X_train = X_train\n",
        "        self.y_train = y_train"
      ],
      "metadata": {
        "id": "7H9BYCwhYdqL"
      },
      "execution_count": null,
      "outputs": []
    },
    {
      "cell_type": "markdown",
      "source": [
        "2. Predict the label using the testing set"
      ],
      "metadata": {
        "id": "5IlatV3EZ69I"
      }
    },
    {
      "cell_type": "code",
      "source": [
        "def euclidean(point, data):\n",
        "    # Euclidean distance between points a & data\n",
        "    return np.sqrt(np.sum((point - data)**2, axis=1))\n",
        "\n",
        "def most_common(lst):\n",
        "    return max(set(lst), key=lst.count)\n",
        "    \n",
        "def predict(self, X_test):\n",
        "    neighbors = []\n",
        "    for x in X_test:\n",
        "        # compute the euclidean distance\n",
        "        distances = self.euclidean(x, self.X_train)\n",
        "        # sort based on the distance\n",
        "        y_sorted = [y for _, y in sorted(zip(distances, self.y_train))]\n",
        "        # pick k nearest neighbors \n",
        "        neighbors.append(y_sorted[:self.k])\n",
        "    return list(map(most_common, neighbors)) # among k nearest neighbors, pick the majority label"
      ],
      "metadata": {
        "id": "Jj7UuMRsZ7Sf"
      },
      "execution_count": null,
      "outputs": []
    },
    {
      "cell_type": "markdown",
      "source": [
        "3. Compute the accuracy based on predicted labels"
      ],
      "metadata": {
        "id": "wA91dK1ubjfT"
      }
    },
    {
      "cell_type": "code",
      "source": [
        "# compute the accuracy of the classifier\n",
        "def evaluate(self, X_test, y_test):\n",
        "    y_pred = self.predict(X_test)\n",
        "    accuracy = sum(y_pred == y_test) / len(y_test)\n",
        "    return accuracy"
      ],
      "metadata": {
        "id": "IjIuXtdabdNG"
      },
      "execution_count": null,
      "outputs": []
    },
    {
      "cell_type": "markdown",
      "source": [
        "Then, let's put everything into KNeighborsClassifier class"
      ],
      "metadata": {
        "id": "mA-4p9I0bqpJ"
      }
    },
    {
      "cell_type": "code",
      "source": [
        "import numpy as np\n",
        "import matplotlib.pyplot as plt\n",
        "from sklearn import datasets\n",
        "from sklearn.model_selection import train_test_split\n",
        "from sklearn.preprocessing import StandardScaler\n",
        "def most_common(lst):\n",
        "    return max(set(lst), key=lst.count)\n",
        "\n",
        "def euclidean(point, data):\n",
        "    # Euclidean distance between points a & data\n",
        "    return np.sqrt(np.sum((point - data)**2, axis=1))\n",
        "\n",
        "class KNeighborsClassifier:\n",
        "    def __init__(self, k=5, dist_metric=euclidean):\n",
        "        self.k = k\n",
        "        self.dist_metric = dist_metric\n",
        "\n",
        "    def fit(self, X_train, y_train):\n",
        "        self.X_train = X_train\n",
        "        self.y_train = y_train\n",
        "\n",
        "    def predict(self, X_test):\n",
        "        neighbors = []\n",
        "        for x in X_test:\n",
        "            distances = self.dist_metric(x, self.X_train)\n",
        "            y_sorted = [y for _, y in sorted(zip(distances, self.y_train))]\n",
        "            neighbors.append(y_sorted[:self.k])\n",
        "        return list(map(most_common, neighbors))\n",
        "        \n",
        "    def evaluate(self, X_test, y_test):\n",
        "        y_pred = self.predict(X_test)\n",
        "        accuracy = sum(y_pred == y_test) / len(y_test)\n",
        "        return accuracy"
      ],
      "metadata": {
        "id": "aBZ94NbEbtk6"
      },
      "execution_count": null,
      "outputs": []
    },
    {
      "cell_type": "markdown",
      "source": [
        "Load the dataset and run PCA on it"
      ],
      "metadata": {
        "id": "7FaqKGf93xr9"
      }
    },
    {
      "cell_type": "code",
      "source": [
        "# Unpack the iris dataset, from UCI Machine Learning Repository\n",
        "iris = datasets.load_iris()\n",
        "X = iris['data']\n",
        "y = iris['target']\n",
        "# Split data into train & test sets\n",
        "X_train, X_test, y_train, y_test = train_test_split(X, y, test_size=0.2)\n",
        "# Preprocess data\n",
        "ss = StandardScaler().fit(X_train)\n",
        "X_train, X_test = ss.transform(X_train), ss.transform(X_test)\n",
        "# Test knn model across varying ks\n",
        "accuracies_test = []\n",
        "accuracies_train = []\n",
        "ks = range(1, 13)\n",
        "for k in ks:\n",
        "    knn = KNeighborsClassifier(k=k)\n",
        "    knn.fit(X_train, y_train)\n",
        "    accuracy_test = knn.evaluate(X_test, y_test)\n",
        "    accuracies_test.append(accuracy_test)\n",
        "    accuracy_train = knn.evaluate(X_train, y_train)\n",
        "    accuracies_train.append(accuracy_train)\n",
        "# Visualize accuracy vs. k\n",
        "fig, ax = plt.subplots()\n",
        "ax.plot(ks, accuracies_train)\n",
        "ax.set(xlabel=\"k\",\n",
        "       ylabel=\"Training Accuracy\",\n",
        "       title=\"Performance of knn\")\n",
        "plt.show()\n",
        "\n",
        "fig, ax = plt.subplots()\n",
        "ax.plot(ks, accuracies_test)\n",
        "ax.set(xlabel=\"k\",\n",
        "       ylabel=\"Testing Accuracy\",\n",
        "       title=\"Performance of knn\")\n",
        "plt.show()\n"
      ],
      "metadata": {
        "colab": {
          "base_uri": "https://localhost:8080/",
          "height": 573
        },
        "id": "Gz40e9RC3wfS",
        "outputId": "b624e76d-2c0b-429b-8cd4-23e72f13fbe2"
      },
      "execution_count": null,
      "outputs": [
        {
          "output_type": "display_data",
          "data": {
            "text/plain": [
              "<Figure size 432x288 with 1 Axes>"
            ],
            "image/png": "[encoded data removed]"
          },
          "metadata": {
            "needs_background": "light"
          }
        },
        {
          "output_type": "display_data",
          "data": {
            "text/plain": [
              "<Figure size 432x288 with 1 Axes>"
            ],
            "image/png": "[encoded data removed]"
          },
          "metadata": {
            "needs_background": "light"
          }
        }
      ]
    },
    {
      "cell_type": "markdown",
      "source": [
        "# Chapter 1-2. Use scikit-learn library\n"
      ],
      "metadata": {
        "id": "ofiiGtwF4gcz"
      }
    },
    {
      "cell_type": "code",
      "source": [
        "from sklearn.neighbors import KNeighborsClassifier\n"
      ],
      "metadata": {
        "id": "hQg3KLeQ4m8y"
      },
      "execution_count": null,
      "outputs": []
    },
    {
      "cell_type": "code",
      "source": [
        "accuracies_test=[]\n",
        "accuracies_train=[]\n",
        "for k in range(1,13):\n",
        "  #by default, metric is an euclidean distance \n",
        "  # Refer to https://scikit-learn.org/stable/modules/generated/sklearn.neighbors.KNeighborsClassifier.html\n",
        "  classifier = KNeighborsClassifier(n_neighbors = k)\n",
        "  classifier.fit(X_train, y_train)\n",
        "  accuracies_train.append(classifier.score(X_train, y_train))\n",
        "  accuracies_test.append(classifier.score(X_test, y_test))"
      ],
      "metadata": {
        "id": "8qhm7D1V44US"
      },
      "execution_count": null,
      "outputs": []
    },
    {
      "cell_type": "code",
      "source": [
        "# Visualize accuracy vs. k\n",
        "fig, ax = plt.subplots()\n",
        "ax.plot(ks, accuracies_train)\n",
        "ax.set(xlabel=\"k\",\n",
        "       ylabel=\"Training Accuracy\",\n",
        "       title=\"Performance of knn\")\n",
        "plt.show()\n",
        "\n",
        "fig, ax = plt.subplots()\n",
        "ax.plot(ks, accuracies_test)\n",
        "ax.set(xlabel=\"k\",\n",
        "       ylabel=\"Testing Accuracy\",\n",
        "       title=\"Performance of knn\")\n",
        "plt.show()"
      ],
      "metadata": {
        "colab": {
          "base_uri": "https://localhost:8080/",
          "height": 573
        },
        "id": "rEIBKiTF5jZ2",
        "outputId": "96ae7a58-dcfc-45c7-ae48-fd9723e46656"
      },
      "execution_count": null,
      "outputs": [
        {
          "output_type": "display_data",
          "data": {
            "text/plain": [
              "<Figure size 432x288 with 1 Axes>"
            ],
            "image/png": "[encoded data removed]"
          },
          "metadata": {
            "needs_background": "light"
          }
        },
        {
          "output_type": "display_data",
          "data": {
            "text/plain": [
              "<Figure size 432x288 with 1 Axes>"
            ],
            "image/png": "[encoded data removed]"
          },
          "metadata": {
            "needs_background": "light"
          }
        }
      ]
    }
  ]
}